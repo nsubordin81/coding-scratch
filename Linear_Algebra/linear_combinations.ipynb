{
 "cells": [
  {
   "cell_type": "code",
   "execution_count": 3,
   "id": "6b103ef6",
   "metadata": {},
   "outputs": [],
   "source": [
    "import numpy as np "
   ]
  },
  {
   "cell_type": "markdown",
   "id": "243a463e",
   "metadata": {},
   "source": [
    "So most of linear algabra apparently boils down to linear combinations. that is just scalar multiplication by vectors and then vector addition (or subtraction which is just adding the negation)"
   ]
  },
  {
   "cell_type": "code",
   "execution_count": 5,
   "id": "df37d415",
   "metadata": {},
   "outputs": [
    {
     "name": "stdout",
     "output_type": "stream",
     "text": [
      "[1 1] [2 3]\n"
     ]
    }
   ],
   "source": [
    "vec1 = np.array([1, 1])\n",
    "vec2 = np.array([2, 3])\n",
    "\n",
    "print(vec1, vec2)"
   ]
  },
  {
   "cell_type": "markdown",
   "id": "44baebb5",
   "metadata": {},
   "source": [
    "not so bad, there you have 2 2d vectors. typically in linear algebra the notation would be to have them vertical as col vectors. [1,1] is 3 things. it is that column, it is also the  point in space 1,1, and it is also an arrow, visual vector of unit magnitude starting at the origin of its coordinate system and going to point 1,1. technically that is a normalized vector because all the components, the values of the dimensions are 1. does that mean (0,0) and (1,1) line is 1 as well? euclidean distance woudl be sqrt of sum of squared differences between distance right, so guessing that is 1 - 0 squared + 1 - 0 squared, which is 1 + 1, that is 2, then sqrt of 2, so not at all 1.And it turns out I was wrong, good thing I'm studying! normalized vector has a magnitude of 1. I knew that, but I guess not solidly enough that I didn't have to work it out. so vector with (1,1) is not normalized.   "
   ]
  },
  {
   "cell_type": "markdown",
   "id": "50a4a504",
   "metadata": {},
   "source": [
    "so now what? linear combinations, that's what. if I had an 'a' and a 'b', then I could scale the vectors by this. adding the vectors is first though, getting ahead of myself. let's try that in numpy"
   ]
  },
  {
   "cell_type": "code",
   "execution_count": 6,
   "id": "dcc54563",
   "metadata": {},
   "outputs": [
    {
     "data": {
      "text/plain": [
       "array([3, 4])"
      ]
     },
     "execution_count": 6,
     "metadata": {},
     "output_type": "execute_result"
    }
   ],
   "source": [
    "vec1 + vec2"
   ]
  },
  {
   "cell_type": "markdown",
   "id": "815d33d4",
   "metadata": {},
   "source": [
    "\n",
    "l this isn't bad, just adding the components. now scaling? "
   ]
  },
  {
   "cell_type": "code",
   "execution_count": 7,
   "id": "81bcc4ed",
   "metadata": {},
   "outputs": [
    {
     "data": {
      "text/plain": [
       "array([2, 2])"
      ]
     },
     "execution_count": 7,
     "metadata": {},
     "output_type": "execute_result"
    }
   ],
   "source": [
    "2*vec1"
   ]
  },
  {
   "cell_type": "markdown",
   "id": "3e362644",
   "metadata": {},
   "source": [
    "nice, so that is just multiplying 2 by each component. so far so easy. but the thing that linear algebra does that gives everyone a headache is leap from this to thinking about unknowns in the equations. so if it wasn't 2 that I was using, but I could instead pick any number, what are the implications? Turns out a lot. with vec1, I could scale it so that I could get it to be any point along the infinite line (in both directions) that is parallel with (1, 1). picking a few coefficients at random, say instead of 2 I picked -1000, or 50.25. "
   ]
  },
  {
   "cell_type": "code",
   "execution_count": 8,
   "id": "be56da9f",
   "metadata": {},
   "outputs": [
    {
     "name": "stdout",
     "output_type": "stream",
     "text": [
      "[1000 1000]\n"
     ]
    }
   ],
   "source": [
    "print(1000 * vec1)"
   ]
  },
  {
   "cell_type": "code",
   "execution_count": 9,
   "id": "6ec93ef0",
   "metadata": {},
   "outputs": [
    {
     "name": "stdout",
     "output_type": "stream",
     "text": [
      "[50.25 50.25]\n"
     ]
    }
   ],
   "source": [
    "print(50.25 * vec1)"
   ]
  },
  {
   "cell_type": "markdown",
   "id": "d74faeaf",
   "metadata": {},
   "source": [
    "picking (1,1) makes it easier to see. the slope is the same for these because it is 1. teh origin will also be the same as 0,0 because that is where all single vectors are based from. so I can create any point on that line. I also can't create points off of that line, since the scaling happens to both vector components, so as much as I grow the purely 'horizontal' x part I'm going to also grow the purely 'vertical' y part ivery time. "
   ]
  }
 ],
 "metadata": {
  "kernelspec": {
   "display_name": "venv",
   "language": "python",
   "name": "python3"
  },
  "language_info": {
   "codemirror_mode": {
    "name": "ipython",
    "version": 3
   },
   "file_extension": ".py",
   "mimetype": "text/x-python",
   "name": "python",
   "nbconvert_exporter": "python",
   "pygments_lexer": "ipython3",
   "version": "3.12.2"
  }
 },
 "nbformat": 4,
 "nbformat_minor": 5
}
