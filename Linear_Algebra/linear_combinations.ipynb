{
 "cells": [
  {
   "cell_type": "code",
   "execution_count": 3,
   "id": "6b103ef6",
   "metadata": {},
   "outputs": [],
   "source": [
    "import numpy as np "
   ]
  },
  {
   "cell_type": "markdown",
   "id": "243a463e",
   "metadata": {},
   "source": [
    "So most of linear algabra apparently boils down to linear combinations. that is just scalar multiplication by vectors and then vector addition (or subtraction which is just adding the negation)"
   ]
  },
  {
   "cell_type": "code",
   "execution_count": 5,
   "id": "df37d415",
   "metadata": {},
   "outputs": [
    {
     "name": "stdout",
     "output_type": "stream",
     "text": [
      "[1 1] [2 3]\n"
     ]
    }
   ],
   "source": [
    "vec1 = np.array([1, 1])\n",
    "vec2 = np.array([2, 3])\n",
    "\n",
    "print(vec1, vec2)"
   ]
  },
  {
   "cell_type": "markdown",
   "id": "44baebb5",
   "metadata": {},
   "source": [
    "not so bad, there you have 2 2d vectors. typically in linear algebra the notation would be to have them vertical as col vectors. [1,1] is 3 things. it is that column, it is also the  point in space 1,1, and it is also an arrow, visual vector of unit magnitude starting at the origin of its coordinate system and going to point 1,1. technically that is a normalized vector because all the components, the values of the dimensions are 1. does that mean (0,0) and (1,1) line is 1 as well? euclidean distance woudl be sqrt of sum of squared differences between distance right, so guessing that is 1 - 0 squared + 1 - 0 squared, which is 1 + 1, that is 2, then sqrt of 2, so not at all 1.And it turns out I was wrong, good thing I'm studying! normalized vector has a magnitude of 1. I knew that, but I guess not solidly enough that I didn't have to work it out. so vector with (1,1) is not normalized.   "
   ]
  },
  {
   "cell_type": "markdown",
   "id": "50a4a504",
   "metadata": {},
   "source": [
    "so now what? linear combinations, that's what. if I had an 'a' and a 'b', then I could scale the vectors by this. adding the vectors is first though, getting ahead of myself. let's try that in numpy"
   ]
  },
  {
   "cell_type": "code",
   "execution_count": 6,
   "id": "dcc54563",
   "metadata": {},
   "outputs": [
    {
     "data": {
      "text/plain": [
       "array([3, 4])"
      ]
     },
     "execution_count": 6,
     "metadata": {},
     "output_type": "execute_result"
    }
   ],
   "source": [
    "vec1 + vec2"
   ]
  },
  {
   "cell_type": "markdown",
   "id": "815d33d4",
   "metadata": {},
   "source": [
    "\n",
    "l this isn't bad, just adding the components. now scaling? "
   ]
  },
  {
   "cell_type": "code",
   "execution_count": 7,
   "id": "81bcc4ed",
   "metadata": {},
   "outputs": [
    {
     "data": {
      "text/plain": [
       "array([2, 2])"
      ]
     },
     "execution_count": 7,
     "metadata": {},
     "output_type": "execute_result"
    }
   ],
   "source": [
    "2*vec1"
   ]
  },
  {
   "cell_type": "markdown",
   "id": "3e362644",
   "metadata": {},
   "source": [
    "nice, so that is just multiplying 2 by each component. so far so easy. but the thing that linear algebra does that gives everyone a headache is leap from this to thinking about unknowns in the equations. so if it wasn't 2 that I was using, but I could instead pick any number, what are the implications? Turns out a lot. with vec1, I could scale it so that I could get it to be any point along the infinite line (in both directions) that is parallel with (1, 1). picking a few coefficients at random, say instead of 2 I picked -1000, or 50.25. "
   ]
  },
  {
   "cell_type": "code",
   "execution_count": 8,
   "id": "be56da9f",
   "metadata": {},
   "outputs": [
    {
     "name": "stdout",
     "output_type": "stream",
     "text": [
      "[1000 1000]\n"
     ]
    }
   ],
   "source": [
    "print(1000 * vec1)"
   ]
  },
  {
   "cell_type": "code",
   "execution_count": 9,
   "id": "6ec93ef0",
   "metadata": {},
   "outputs": [
    {
     "name": "stdout",
     "output_type": "stream",
     "text": [
      "[50.25 50.25]\n"
     ]
    }
   ],
   "source": [
    "print(50.25 * vec1)"
   ]
  },
  {
   "cell_type": "markdown",
   "id": "d74faeaf",
   "metadata": {},
   "source": [
    "picking (1,1) makes it easier to see. the slope is the same for these because it is 1. teh origin will also be the same as 0,0 because that is where all single vectors are based from. so I can create any point on that line. I also can't create points off of that line, since the scaling happens to both vector components, so as much as I grow the purely 'horizontal' x part I'm going to also grow the purely 'vertical' y part ivery time. "
   ]
  },
  {
   "cell_type": "markdown",
   "id": "c65cc0f9",
   "metadata": {},
   "source": [
    "so then with these things in mind, Strang starts to give students a preview of how far they are going to go by going ferom this to linear combinations. that is what we showed before, where you have two or more vectors being added and each one is being scaled by some coefficient. Whereas in the thing we just talked about with one vector, you could only represent a line, with two vectors you can represent a plane. That is another leap of understanding, which I feel ilke can be articulated though in a way that isn't too confusing. "
   ]
  },
  {
   "cell_type": "markdown",
   "id": "8d9c462a",
   "metadata": {},
   "source": [
    "we couldn't chagne the slope of the line vector when pickign different values for the coefficient, but if we have two vectors that don't have the same slope starting at the origin and we are scaling them both, we have all the values on two infinite lines. it turns out that all the values on two infinite lines, no matter what their slopes are, can represent every point on the plane those two lines are on. why? well, it takes a bit of visualization, but since the point that results from adding these vectors comes from drawing a parallelogram of some sort that results from putting them head to tail, if you imagine those lines getting longer and shorter but not at the same rate, it starts to feel intuitive that you could arbitrarily move that result point up, down, left or right anywhere on the x, y coordinate system. "
   ]
  },
  {
   "cell_type": "markdown",
   "id": "2c152e0c",
   "metadata": {},
   "source": [
    "so we have this combination we can work with, with x*vec1 + y * vec2 where x and y are scalars. let's see what that could look like for this situation. picking some values for x and y. how about x=10 and y=3"
   ]
  },
  {
   "cell_type": "code",
   "execution_count": 10,
   "id": "1e92c45b",
   "metadata": {},
   "outputs": [
    {
     "data": {
      "text/plain": [
       "array([16, 19])"
      ]
     },
     "execution_count": 10,
     "metadata": {},
     "output_type": "execute_result"
    }
   ],
   "source": [
    "10 * vec1 + 3 * vec2"
   ]
  },
  {
   "cell_type": "markdown",
   "id": "617bf6d5",
   "metadata": {},
   "source": [
    "so the result was [16,19]. that means for those two vectors, [1,1] and [2,3], if you had on the right hand side of your linear combination equation the value [16,19] and x and y as unknowns, then you'd have a single solution to the combination and it would be x=10 and y=3. Usually in linear algebra I think the point is to go in the other direction and find the values of the scalars, or it is to reason about all possible values for x and y that would solve the system, but this is another way to look at it.  "
   ]
  },
  {
   "cell_type": "markdown",
   "id": "30ae215d",
   "metadata": {},
   "source": [
    "the book mentions for the system c*[1,1,1] + d*[2,3,4] = [1,0,0] that there is no solution, because [1,0,0] is not on that plane. once again this may assume that I'm well versed enough in visualizing that I can see this pretty apparently. Well, I still need to work my way through it. So [1,0,0] would be a vector going one on the x axis and then not being on either the y or z. if the left hand side described a solution that covered all of 3d space, then I'd expect this point to exist in that volume. So this implies that the left hand side is forming an infinite plane instead of an infinite 3d space. I might have trouble seeing that without plotting it, but let me try. first, I'll sample a bunch of values for each and see what it looks like: "
   ]
  },
  {
   "cell_type": "code",
   "execution_count": 22,
   "id": "713ed327",
   "metadata": {},
   "outputs": [
    {
     "name": "stdout",
     "output_type": "stream",
     "text": [
      "linear combo 2.0 * [1. 1. 1.] + 3.0 * [2. 3. 4.] is [ 8. 11. 14.]\n",
      "linear combo 1.0 * [1. 1. 1.] + 0.0 * [2. 3. 4.] is [1. 1. 1.]\n",
      "linear combo 3.0 * [1. 1. 1.] + 3.0 * [2. 3. 4.] is [ 9. 12. 15.]\n",
      "linear combo -5.0 * [1. 1. 1.] + 40.0 * [2. 3. 4.] is [ 75. 115. 155.]\n",
      "linear combo -5.0 * [1. 1. 1.] + -5.0 * [2. 3. 4.] is [-15. -20. -25.]\n"
     ]
    },
    {
     "data": {
      "text/plain": [
       "[None, None, None, None, None]"
      ]
     },
     "execution_count": 22,
     "metadata": {},
     "output_type": "execute_result"
    }
   ],
   "source": [
    "vec3 = np.array([1.,1.,1.])\n",
    "vec4 = np.array([2.,3.,4.])\n",
    "\n",
    "variable_pairs = [(2.0, 3.0), (1.0, 0.0), (3.0, 3.0), (-5.0, 40.0), (-5.0, -5.0)]\n",
    "\n",
    "\n",
    "def log_possibilities(v1, v2, pair):\n",
    "    print(f\"linear combo {pair[0]} * {v1} + {pair[1]} * {v2} is {pair[0] * v1 + pair[1] * v2}\")\n",
    "\n",
    "[log_possibilities(vec3, vec4, pair) for pair in variable_pairs]"
   ]
  },
  {
   "cell_type": "markdown",
   "id": "97c227ac",
   "metadata": {},
   "source": [
    "ok, I didn't see it, maybe gave up a little too early, or this isn't the way to think about it. I read a little ahead and learned about linear independence of vectors. these vectors are actually linearly independent, the test being that you can't find a scalar to turn one into the other. since on of them is [1,1,1], we know that any scalar is going to affect all components of it evenly, so it will never be able to get to [2,3,4] which would require the same ratio to exist between each of the dimensions, [4,6,8] for example.  "
   ]
  },
  {
   "cell_type": "markdown",
   "id": "c772e716",
   "metadata": {},
   "source": [
    "so these two 3d vectors aren't on the same line from the origin, doesn't taht mean that their linear combination can produce all 3d vectors? now I'm confused about the result vector [1,0,0] not being possible. I guess I can try to work it out though. the language of \"the right hand side of the equation is not on the plane represented by the left hand side\" is not intuitively clicking for me. "
   ]
  },
  {
   "cell_type": "code",
   "execution_count": 31,
   "id": "f700061b",
   "metadata": {},
   "outputs": [
    {
     "name": "stdout",
     "output_type": "stream",
     "text": [
      "[1. 1. 1.]\n",
      "[2. 3. 4.]\n",
      "[1, 0, 0]\n",
      "[0. 0. 0.]\n"
     ]
    },
    {
     "data": {
      "text/plain": [
       "array([0.5 , 1.25, 2.  ])"
      ]
     },
     "execution_count": 31,
     "metadata": {},
     "output_type": "execute_result"
    }
   ],
   "source": [
    "# we have the two vectors\n",
    "print(vec3)\n",
    "print(vec4)\n",
    "\n",
    "# and the result vector\n",
    "vec5 = [1,0,0]\n",
    "\n",
    "print(vec5)\n",
    "\n",
    "# and if we had coefficients 'c' and 'd'. I can tell that there isn't really a value for c and d that could zero out both, except for maybe if c and d were both zero, but then how would we get the 1 in the first component of the result vector?\n",
    "print(0*vec3 + 0*vec4)\n",
    "\n",
    "# so I can tell the system can't be solved by elimination, but I don't have a geometric intuition for why this is correct. \n",
    "-1 * vec3 + .75 * vec4"
   ]
  },
  {
   "cell_type": "code",
   "execution_count": null,
   "id": "0f4bbef3",
   "metadata": {},
   "outputs": [],
   "source": []
  }
 ],
 "metadata": {
  "kernelspec": {
   "display_name": "venv",
   "language": "python",
   "name": "python3"
  },
  "language_info": {
   "codemirror_mode": {
    "name": "ipython",
    "version": 3
   },
   "file_extension": ".py",
   "mimetype": "text/x-python",
   "name": "python",
   "nbconvert_exporter": "python",
   "pygments_lexer": "ipython3",
   "version": "3.12.2"
  }
 },
 "nbformat": 4,
 "nbformat_minor": 5
}
