{
  "cells": [
    {
      "cell_type": "markdown",
      "id": "418e407e",
      "metadata": {
        "id": "418e407e"
      },
      "source": [
        "The third edition of *Think Stats* is available now from [Bookshop.org](https://bookshop.org/a/98697/9781098190255) and [Amazon](https://amzn.to/42lmxwu) (those are affiliate links). If you are enjoying the free, online version, consider [buying me a coffee](https://buymeacoffee.com/allendowney)."
      ]
    },
    {
      "cell_type": "markdown",
      "id": "85c30bdb",
      "metadata": {
        "id": "85c30bdb"
      },
      "source": [
        "# Exploratory Data Analysis\n",
        "\n",
        "The thesis of this book is we can use data to answer questions, resolve debates, and make better decisions.\n",
        "\n",
        "This chapter introduces the steps we'll use to do that: loading and validating data, exploring, and choosing statistics that measure what we are interested in.\n",
        "As an example, we'll use data from the National Survey of Family Growth (NSFG) to answer a question I heard when my wife and I were expecting our first child: do first babies tend to arrive late?"
      ]
    },
    {
      "cell_type": "markdown",
      "id": "3893fe82",
      "metadata": {
        "id": "3893fe82",
        "tags": []
      },
      "source": [
        "[Click here to run this notebook on Colab](https://colab.research.google.com/github/AllenDowney/ThinkStats/blob/v3/nb/chap01.ipynb)."
      ]
    },
    {
      "cell_type": "code",
      "execution_count": 1,
      "id": "02d400cf",
      "metadata": {
        "colab": {
          "base_uri": "https://localhost:8080/"
        },
        "id": "02d400cf",
        "outputId": "85540feb-33aa-4935-8ddf-3ae04a077da5",
        "tags": []
      },
      "outputs": [
        {
          "name": "stdout",
          "output_type": "stream",
          "text": [
            "Downloaded thinkstats.py\n"
          ]
        }
      ],
      "source": [
        "from os.path import basename, exists\n",
        "\n",
        "\n",
        "def download(url):\n",
        "    filename = basename(url)\n",
        "    if not exists(filename):\n",
        "        from urllib.request import urlretrieve\n",
        "\n",
        "        local, _ = urlretrieve(url, filename)\n",
        "        print(\"Downloaded \" + local)\n",
        "\n",
        "\n",
        "download(\"https://github.com/AllenDowney/ThinkStats/raw/v3/nb/thinkstats.py\")"
      ]
    },
    {
      "cell_type": "code",
      "execution_count": 2,
      "id": "553c681e",
      "metadata": {
        "colab": {
          "base_uri": "https://localhost:8080/"
        },
        "id": "553c681e",
        "outputId": "53de512c-32ba-4b71-c14c-b25288941c40",
        "tags": []
      },
      "outputs": [
        {
          "name": "stdout",
          "output_type": "stream",
          "text": [
            "Collecting empiricaldist\n",
            "  Downloading empiricaldist-0.9.0.tar.gz (14 kB)\n",
            "  Installing build dependencies ... \u001b[?25ldone\n",
            "\u001b[?25h  Getting requirements to build wheel ... \u001b[?25ldone\n",
            "\u001b[?25h  Preparing metadata (pyproject.toml) ... \u001b[?25ldone\n",
            "\u001b[?25hRequirement already satisfied: matplotlib in /Users/taylor.bird/code/myapps/reference/coding-scratch/venv/lib/python3.12/site-packages (from empiricaldist) (3.10.1)\n",
            "Requirement already satisfied: numpy in /Users/taylor.bird/code/myapps/reference/coding-scratch/venv/lib/python3.12/site-packages (from empiricaldist) (2.2.5)\n",
            "Requirement already satisfied: pandas in /Users/taylor.bird/code/myapps/reference/coding-scratch/venv/lib/python3.12/site-packages (from empiricaldist) (2.2.3)\n",
            "Collecting scipy (from empiricaldist)\n",
            "  Downloading scipy-1.15.3-cp312-cp312-macosx_14_0_arm64.whl.metadata (61 kB)\n",
            "\u001b[2K     \u001b[90m━━━━━━━━━━━━━━━━━━━━━━━━━━━━━━━━━━━━━━━━\u001b[0m \u001b[32m62.0/62.0 kB\u001b[0m \u001b[31m2.7 MB/s\u001b[0m eta \u001b[36m0:00:00\u001b[0m\n",
            "\u001b[?25hRequirement already satisfied: contourpy>=1.0.1 in /Users/taylor.bird/code/myapps/reference/coding-scratch/venv/lib/python3.12/site-packages (from matplotlib->empiricaldist) (1.3.2)\n",
            "Requirement already satisfied: cycler>=0.10 in /Users/taylor.bird/code/myapps/reference/coding-scratch/venv/lib/python3.12/site-packages (from matplotlib->empiricaldist) (0.12.1)\n",
            "Requirement already satisfied: fonttools>=4.22.0 in /Users/taylor.bird/code/myapps/reference/coding-scratch/venv/lib/python3.12/site-packages (from matplotlib->empiricaldist) (4.57.0)\n",
            "Requirement already satisfied: kiwisolver>=1.3.1 in /Users/taylor.bird/code/myapps/reference/coding-scratch/venv/lib/python3.12/site-packages (from matplotlib->empiricaldist) (1.4.8)\n",
            "Requirement already satisfied: packaging>=20.0 in /Users/taylor.bird/code/myapps/reference/coding-scratch/venv/lib/python3.12/site-packages (from matplotlib->empiricaldist) (25.0)\n",
            "Requirement already satisfied: pillow>=8 in /Users/taylor.bird/code/myapps/reference/coding-scratch/venv/lib/python3.12/site-packages (from matplotlib->empiricaldist) (11.2.1)\n",
            "Requirement already satisfied: pyparsing>=2.3.1 in /Users/taylor.bird/code/myapps/reference/coding-scratch/venv/lib/python3.12/site-packages (from matplotlib->empiricaldist) (3.2.3)\n",
            "Requirement already satisfied: python-dateutil>=2.7 in /Users/taylor.bird/code/myapps/reference/coding-scratch/venv/lib/python3.12/site-packages (from matplotlib->empiricaldist) (2.9.0.post0)\n",
            "Requirement already satisfied: pytz>=2020.1 in /Users/taylor.bird/code/myapps/reference/coding-scratch/venv/lib/python3.12/site-packages (from pandas->empiricaldist) (2025.2)\n",
            "Requirement already satisfied: tzdata>=2022.7 in /Users/taylor.bird/code/myapps/reference/coding-scratch/venv/lib/python3.12/site-packages (from pandas->empiricaldist) (2025.2)\n",
            "Requirement already satisfied: six>=1.5 in /Users/taylor.bird/code/myapps/reference/coding-scratch/venv/lib/python3.12/site-packages (from python-dateutil>=2.7->matplotlib->empiricaldist) (1.17.0)\n",
            "Downloading scipy-1.15.3-cp312-cp312-macosx_14_0_arm64.whl (22.4 MB)\n",
            "\u001b[2K   \u001b[90m━━━━━━━━━━━━━━━━━━━━━━━━━━━━━━━━━━━━━━━━\u001b[0m \u001b[32m22.4/22.4 MB\u001b[0m \u001b[31m7.4 MB/s\u001b[0m eta \u001b[36m0:00:00\u001b[0m00:01\u001b[0m00:01\u001b[0m\n",
            "\u001b[?25hBuilding wheels for collected packages: empiricaldist\n",
            "  Building wheel for empiricaldist (pyproject.toml) ... \u001b[?25ldone\n",
            "\u001b[?25h  Created wheel for empiricaldist: filename=empiricaldist-0.9.0-py3-none-any.whl size=14296 sha256=22490f235e795db5e51ba34d334278dc0316806cdcb045404f8e50b10d6c0415\n",
            "  Stored in directory: /Users/taylor.bird/Library/Caches/pip/wheels/26/56/da/ea90b6b66dc5e72379a64e2819815066873f00c1350126e876\n",
            "Successfully built empiricaldist\n",
            "Installing collected packages: scipy, empiricaldist\n",
            "Successfully installed empiricaldist-0.9.0 scipy-1.15.3\n",
            "\n",
            "\u001b[1m[\u001b[0m\u001b[34;49mnotice\u001b[0m\u001b[1;39;49m]\u001b[0m\u001b[39;49m A new release of pip is available: \u001b[0m\u001b[31;49m24.0\u001b[0m\u001b[39;49m -> \u001b[0m\u001b[32;49m25.1.1\u001b[0m\n",
            "\u001b[1m[\u001b[0m\u001b[34;49mnotice\u001b[0m\u001b[1;39;49m]\u001b[0m\u001b[39;49m To update, run: \u001b[0m\u001b[32;49mpip install --upgrade pip\u001b[0m\n"
          ]
        }
      ],
      "source": [
        "try:\n",
        "    import empiricaldist\n",
        "except ImportError:\n",
        "    !pip install empiricaldist"
      ]
    },
    {
      "cell_type": "code",
      "execution_count": 5,
      "id": "1a3119be",
      "metadata": {
        "id": "1a3119be",
        "tags": []
      },
      "outputs": [],
      "source": [
        "import numpy as np\n",
        "import pandas as pd\n",
        "import matplotlib.pyplot as plt\n",
        "\n",
        "from IPython.display import HTML\n",
        "from thinkstats import decorate"
      ]
    },
    {
      "cell_type": "markdown",
      "id": "9ebc865a",
      "metadata": {
        "id": "9ebc865a"
      },
      "source": [
        "## Evidence\n",
        "\n",
        "You might have heard that first babies are more likely to be late.\n",
        "If you search the web with this question, you will find plenty of discussion.\n",
        "Some people claim it's true, others say it's a myth, and some people say it's the other way around: first babies come early.\n",
        "\n",
        "In many of these discussions, people provide data to support their claims.\n",
        "I found many examples like these:\n",
        "\n",
        "> \"My two friends that have given birth recently to their first babies, BOTH went almost 2 weeks overdue before going into labour or being induced.\"\n",
        "\n",
        "> \"My first one came 2 weeks late and now I think the second one is going to come out two weeks early!!\"\n",
        "\n",
        "> \"I don't think that can be true because my sister was my mother's first and she was early, as with many of my cousins.\""
      ]
    },
    {
      "cell_type": "markdown",
      "id": "69f30de7",
      "metadata": {
        "id": "69f30de7"
      },
      "source": [
        "Reports like these are called **anecdotal evidence** because they are based on data that is unpublished and usually personal.\n",
        "In casual conversation, there is nothing wrong with anecdotes, so I don't mean to pick on the people I quoted.\n",
        "\n",
        "But we might want evidence that is more persuasive and an answer that is more reliable.\n",
        "By those standards, anecdotal evidence usually fails, because:\n",
        "\n",
        "-   Small number of observations: If pregnancy length is longer for first babies, the difference is probably small compared to natural variation. In that case, we might have to compare a large number of pregnancies to know whether there is a difference.\n",
        "\n",
        "-   Selection bias: People who join a discussion of this question might be interested because their first babies were late. In that case the process of selecting data would bias the results.\n",
        "\n",
        "-   Confirmation bias: People who believe the claim might be more likely to contribute examples that confirm it. People who doubt the claim are more likely to cite counterexamples.\n",
        "\n",
        "-   Inaccuracy: Anecdotes are often personal stories, and might be misremembered, misrepresented, repeated inaccurately, etc."
      ]
    },
    {
      "cell_type": "markdown",
      "id": "136480d4",
      "metadata": {
        "id": "136480d4"
      },
      "source": [
        "To address the limitations of anecdotes, we will use the tools of statistics, which include:\n",
        "\n",
        "-   Data collection: We will use data from a large national survey that was designed explicitly with the goal of generating statistically valid inferences about the U.S. population.\n",
        "\n",
        "-   Descriptive statistics: We will generate statistics that summarize the data concisely, and evaluate different ways to visualize data.\n",
        "\n",
        "-   Exploratory data analysis: We will look for patterns, differences, and other features that address the questions we are interested in. At the same time we will check for inconsistencies and identify limitations.\n",
        "\n",
        "-   Estimation: We will use data from a sample to estimate characteristics of the general population.\n",
        "\n",
        "-   Hypothesis testing: Where we see apparent effects, like a difference between two groups, we will evaluate whether the effect might have happened by chance.\n",
        "\n",
        "By performing these steps with care to avoid pitfalls, we can reach conclusions that are more justified and more likely to be correct."
      ]
    },
    {
      "cell_type": "markdown",
      "id": "881d8023",
      "metadata": {
        "id": "881d8023",
        "tags": []
      },
      "source": [
        "(section_nsfg)=\n",
        "## The National Survey of Family Growth\n",
        "\n",
        "Since 1973 the U.S. Centers for Disease Control and Prevention (CDC) have conducted the National Survey of Family Growth (NSFG), which is intended to gather \"information on family life, marriage and divorce, pregnancy, infertility, use of contraception, and men's and women's health. The survey results are used...to plan health services and health education programs, and to do statistical studies of families, fertility, and health.\""
      ]
    },
    {
      "cell_type": "markdown",
      "id": "f6e9bf62",
      "metadata": {
        "id": "f6e9bf62",
        "tags": []
      },
      "source": [
        "You can read more about the NSFG at <http://cdc.gov/nchs/nsfg.htm>."
      ]
    },
    {
      "cell_type": "markdown",
      "id": "0f08a78c",
      "metadata": {
        "id": "0f08a78c"
      },
      "source": [
        "We will use data collected by this survey to investigate whether first babies tend to be born late, and other questions.\n",
        "In order to use this data effectively, we have to understand the design of the study.\n",
        "\n",
        "In general, the goal of a statistical study is to draw conclusions about a **population**.\n",
        "In the NSFG, the target population is people in the United States aged 15-44.\n",
        "\n",
        "Ideally surveys would collect data from every member of the population, but that's seldom possible.\n",
        "Instead we collect data from a subset of the population called a **sample**.\n",
        "The people who participate in a survey are called **respondents**.\n",
        "\n",
        "The NSFG is a **cross-sectional** study, which means that it captures a snapshot of a population at a point in time.\n",
        "The NSFG has been conducted several times now; each deployment is called a **cycle**.\n",
        "We will use data from Cycle 6, which was conducted from January 2002 to March 2003."
      ]
    },
    {
      "cell_type": "markdown",
      "id": "41d329e0",
      "metadata": {
        "id": "41d329e0"
      },
      "source": [
        "In general, cross-sectional studies are meant to be **representative**, which means that the sample is similar to the target population in all ways that are important for the purposes of the study.\n",
        "That ideal is hard to achieve in practice, but people who conduct surveys come as close as they can.\n",
        "\n",
        "The NSFG is not representative; instead it is **stratified**, which means that it deliberately **oversamples** some groups.\n",
        "The designers of the study recruited three groups -- Hispanics, African-Americans and teenagers -- at rates higher than their representation in the U.S. population, in order to make sure that the number of respondents in each group is large enough to draw valid conclusions.\n",
        "The drawback of oversampling is that it is not as easy to draw conclusions about the population based on statistics from the sample.\n",
        "We will come back to this point later.\n",
        "\n",
        "When working with this kind of data, it is important to be familiar with the **codebook**, which documents the design of the study, the survey questions, and the encoding of the responses."
      ]
    },
    {
      "cell_type": "markdown",
      "id": "5908f497",
      "metadata": {
        "id": "5908f497",
        "tags": []
      },
      "source": [
        "The codebook and user's guide for the NSFG data are available from <http://www.cdc.gov/nchs/nsfg/nsfg_cycle6.htm>"
      ]
    },
    {
      "cell_type": "markdown",
      "id": "da1298b1",
      "metadata": {
        "id": "da1298b1"
      },
      "source": [
        "## Reading the Data\n",
        "\n",
        "Before downloading NSFG data, you have to agree to the terms of use:\n",
        "\n",
        "> Any intentional identification or disclosure of an individual or establishment violates the assurances of confidentiality given to the providers of the information. Therefore, users will:\n",
        ">\n",
        "> * Use the data in this dataset for statistical reporting and analysis only.\n",
        ">\n",
        "> * Make no attempt to learn the identity of any person or establishment included in these data.\n",
        ">\n",
        "> * Not link this dataset with individually identifiable data from other NCHS or non-NCHS datasets.\n",
        ">\n",
        "> * Not engage in any efforts to assess disclosure methodologies applied to protect individuals and establishments or any research on methods of re-identification of individuals and establishments.\n",
        "\n",
        "If you agree to comply with these terms, instructions for downloading the data are in the notebook for this chapter."
      ]
    },
    {
      "cell_type": "markdown",
      "id": "254dde94",
      "metadata": {
        "id": "254dde94",
        "tags": []
      },
      "source": [
        "The data files are available directly from the NSFG web site at <https://www.cdc.gov/nchs/data_access/ftp_dua.htm?url_redirect=ftp://ftp.cdc.gov/pub/Health_Statistics/NCHS/Datasets/NSFG>, but we will download them from the repository for this book, which provides a compressed version of the data file.\n",
        "\n",
        "The following cells download the data files and install `statadict`, which we need to read the data."
      ]
    },
    {
      "cell_type": "code",
      "execution_count": 6,
      "id": "6ee58aea",
      "metadata": {
        "colab": {
          "base_uri": "https://localhost:8080/"
        },
        "id": "6ee58aea",
        "outputId": "e5cc6c26-a49b-45df-cf47-5e136dd0b459",
        "tags": []
      },
      "outputs": [
        {
          "name": "stdout",
          "output_type": "stream",
          "text": [
            "Downloaded 2002FemPreg.dct\n",
            "Downloaded 2002FemPreg.dat.gz\n"
          ]
        }
      ],
      "source": [
        "download(\"https://github.com/AllenDowney/ThinkStats/raw/v3/data/2002FemPreg.dct\")\n",
        "download(\"https://github.com/AllenDowney/ThinkStats/raw/v3/data/2002FemPreg.dat.gz\")"
      ]
    },
    {
      "cell_type": "code",
      "execution_count": 7,
      "id": "35e4ffdf",
      "metadata": {
        "colab": {
          "base_uri": "https://localhost:8080/"
        },
        "id": "35e4ffdf",
        "outputId": "fbd8058b-791e-41e0-9432-1dc6f0532f2e",
        "tags": []
      },
      "outputs": [
        {
          "name": "stdout",
          "output_type": "stream",
          "text": [
            "Collecting statadict\n",
            "  Downloading statadict-1.1.0-py3-none-any.whl.metadata (1.7 kB)\n",
            "Downloading statadict-1.1.0-py3-none-any.whl (9.4 kB)\n",
            "Installing collected packages: statadict\n",
            "Successfully installed statadict-1.1.0\n",
            "\n",
            "\u001b[1m[\u001b[0m\u001b[34;49mnotice\u001b[0m\u001b[1;39;49m]\u001b[0m\u001b[39;49m A new release of pip is available: \u001b[0m\u001b[31;49m24.0\u001b[0m\u001b[39;49m -> \u001b[0m\u001b[32;49m25.1.1\u001b[0m\n",
            "\u001b[1m[\u001b[0m\u001b[34;49mnotice\u001b[0m\u001b[1;39;49m]\u001b[0m\u001b[39;49m To update, run: \u001b[0m\u001b[32;49mpip install --upgrade pip\u001b[0m\n"
          ]
        }
      ],
      "source": [
        "try:\n",
        "    import statadict\n",
        "except ImportError:\n",
        "    !pip install statadict"
      ]
    },
    {
      "cell_type": "markdown",
      "id": "4cafe831",
      "metadata": {
        "id": "4cafe831"
      },
      "source": [
        "The data is stored in two files, a \"dictionary\" that describes the format of the data, and a data file."
      ]
    },
    {
      "cell_type": "code",
      "execution_count": 8,
      "id": "832bd754",
      "metadata": {
        "id": "832bd754"
      },
      "outputs": [],
      "source": [
        "dct_file = \"2002FemPreg.dct\"\n",
        "dat_file = \"2002FemPreg.dat.gz\""
      ]
    },
    {
      "cell_type": "markdown",
      "id": "714a5a3f",
      "metadata": {
        "id": "714a5a3f"
      },
      "source": [
        "The notebook for this chapter defines a function that reads these files.\n",
        "It is called `read_stata` because this data format is compatible with a statistical software package called Stata."
      ]
    },
    {
      "cell_type": "markdown",
      "id": "0bd8b49f",
      "metadata": {
        "id": "0bd8b49f",
        "tags": []
      },
      "source": [
        "The following function takes these file names as arguments, reads the dictionary, and uses the results to read the data file."
      ]
    },
    {
      "cell_type": "code",
      "execution_count": 9,
      "id": "3630009d",
      "metadata": {
        "id": "3630009d",
        "tags": []
      },
      "outputs": [],
      "source": [
        "from statadict import parse_stata_dict\n",
        "\n",
        "\n",
        "def read_stata(dct_file, dat_file):\n",
        "    stata_dict = parse_stata_dict(dct_file)\n",
        "    resp = pd.read_fwf(\n",
        "        dat_file,\n",
        "        names=stata_dict.names,\n",
        "        colspecs=stata_dict.colspecs,\n",
        "        compression=\"gzip\",\n",
        "    )\n",
        "    return resp"
      ]
    },
    {
      "cell_type": "markdown",
      "id": "f3d9ee03",
      "metadata": {
        "id": "f3d9ee03"
      },
      "source": [
        "Here's how we use it."
      ]
    },
    {
      "cell_type": "code",
      "execution_count": 10,
      "id": "8444ee78",
      "metadata": {
        "id": "8444ee78"
      },
      "outputs": [],
      "source": [
        "preg = read_stata(dct_file, dat_file)"
      ]
    },
    {
      "cell_type": "markdown",
      "id": "8f164c4b",
      "metadata": {
        "id": "8f164c4b"
      },
      "source": [
        "The result is a `DataFrame`, which is a Pandas data structure that represents tabular data in rows and columns.\n",
        "This `DataFrame` contains a row for each pregnancy reported by a respondent and a column for each **variable**.\n",
        "A variable can contain responses to a survey question or values that are calculated based on responses to one or more questions.\n",
        "\n",
        "In addition to the data, a `DataFrame` also contains the variable names and their types, and it provides methods for accessing and modifying the data.\n",
        "The `DataFrame` has an attribute called `shape` that contains the number of rows and columns."
      ]
    },
    {
      "cell_type": "code",
      "execution_count": 11,
      "id": "87e0bfbc",
      "metadata": {
        "colab": {
          "base_uri": "https://localhost:8080/"
        },
        "id": "87e0bfbc",
        "outputId": "2082ee13-ae07-4a9f-fe93-86e1639e29e0"
      },
      "outputs": [
        {
          "data": {
            "text/plain": [
              "(13593, 243)"
            ]
          },
          "execution_count": 11,
          "metadata": {},
          "output_type": "execute_result"
        }
      ],
      "source": [
        "preg.shape"
      ]
    },
    {
      "cell_type": "markdown",
      "id": "7b6a1a58",
      "metadata": {
        "id": "7b6a1a58"
      },
      "source": [
        "This dataset has 243 variables with information about 13,593 pregnancies.\n",
        "The `DataFrame` provides a method called `head` that displays the first few rows."
      ]
    },
    {
      "cell_type": "code",
      "execution_count": 12,
      "id": "9c1cb8f2",
      "metadata": {
        "colab": {
          "base_uri": "https://localhost:8080/",
          "height": 256
        },
        "id": "9c1cb8f2",
        "outputId": "86a85bd8-ecad-4628-f2d9-93abd14e3bfc"
      },
      "outputs": [
        {
          "data": {
            "text/html": [
              "<div>\n",
              "<style scoped>\n",
              "    .dataframe tbody tr th:only-of-type {\n",
              "        vertical-align: middle;\n",
              "    }\n",
              "\n",
              "    .dataframe tbody tr th {\n",
              "        vertical-align: top;\n",
              "    }\n",
              "\n",
              "    .dataframe thead th {\n",
              "        text-align: right;\n",
              "    }\n",
              "</style>\n",
              "<table border=\"1\" class=\"dataframe\">\n",
              "  <thead>\n",
              "    <tr style=\"text-align: right;\">\n",
              "      <th></th>\n",
              "      <th>caseid</th>\n",
              "      <th>pregordr</th>\n",
              "      <th>howpreg_n</th>\n",
              "      <th>howpreg_p</th>\n",
              "      <th>moscurrp</th>\n",
              "      <th>nowprgdk</th>\n",
              "      <th>pregend1</th>\n",
              "      <th>pregend2</th>\n",
              "      <th>nbrnaliv</th>\n",
              "      <th>multbrth</th>\n",
              "      <th>...</th>\n",
              "      <th>poverty_i</th>\n",
              "      <th>laborfor_i</th>\n",
              "      <th>religion_i</th>\n",
              "      <th>metro_i</th>\n",
              "      <th>basewgt</th>\n",
              "      <th>adj_mod_basewgt</th>\n",
              "      <th>finalwgt</th>\n",
              "      <th>secu_p</th>\n",
              "      <th>sest</th>\n",
              "      <th>cmintvw</th>\n",
              "    </tr>\n",
              "  </thead>\n",
              "  <tbody>\n",
              "    <tr>\n",
              "      <th>0</th>\n",
              "      <td>1</td>\n",
              "      <td>1</td>\n",
              "      <td>NaN</td>\n",
              "      <td>NaN</td>\n",
              "      <td>NaN</td>\n",
              "      <td>NaN</td>\n",
              "      <td>6.0</td>\n",
              "      <td>NaN</td>\n",
              "      <td>1.0</td>\n",
              "      <td>NaN</td>\n",
              "      <td>...</td>\n",
              "      <td>0</td>\n",
              "      <td>0</td>\n",
              "      <td>0</td>\n",
              "      <td>0</td>\n",
              "      <td>3410.389399</td>\n",
              "      <td>3869.349602</td>\n",
              "      <td>6448.271112</td>\n",
              "      <td>2</td>\n",
              "      <td>9</td>\n",
              "      <td>1231</td>\n",
              "    </tr>\n",
              "    <tr>\n",
              "      <th>1</th>\n",
              "      <td>1</td>\n",
              "      <td>2</td>\n",
              "      <td>NaN</td>\n",
              "      <td>NaN</td>\n",
              "      <td>NaN</td>\n",
              "      <td>NaN</td>\n",
              "      <td>6.0</td>\n",
              "      <td>NaN</td>\n",
              "      <td>1.0</td>\n",
              "      <td>NaN</td>\n",
              "      <td>...</td>\n",
              "      <td>0</td>\n",
              "      <td>0</td>\n",
              "      <td>0</td>\n",
              "      <td>0</td>\n",
              "      <td>3410.389399</td>\n",
              "      <td>3869.349602</td>\n",
              "      <td>6448.271112</td>\n",
              "      <td>2</td>\n",
              "      <td>9</td>\n",
              "      <td>1231</td>\n",
              "    </tr>\n",
              "    <tr>\n",
              "      <th>2</th>\n",
              "      <td>2</td>\n",
              "      <td>1</td>\n",
              "      <td>NaN</td>\n",
              "      <td>NaN</td>\n",
              "      <td>NaN</td>\n",
              "      <td>NaN</td>\n",
              "      <td>5.0</td>\n",
              "      <td>NaN</td>\n",
              "      <td>3.0</td>\n",
              "      <td>5.0</td>\n",
              "      <td>...</td>\n",
              "      <td>0</td>\n",
              "      <td>0</td>\n",
              "      <td>0</td>\n",
              "      <td>0</td>\n",
              "      <td>7226.301740</td>\n",
              "      <td>8567.549110</td>\n",
              "      <td>12999.542264</td>\n",
              "      <td>2</td>\n",
              "      <td>12</td>\n",
              "      <td>1231</td>\n",
              "    </tr>\n",
              "    <tr>\n",
              "      <th>3</th>\n",
              "      <td>2</td>\n",
              "      <td>2</td>\n",
              "      <td>NaN</td>\n",
              "      <td>NaN</td>\n",
              "      <td>NaN</td>\n",
              "      <td>NaN</td>\n",
              "      <td>6.0</td>\n",
              "      <td>NaN</td>\n",
              "      <td>1.0</td>\n",
              "      <td>NaN</td>\n",
              "      <td>...</td>\n",
              "      <td>0</td>\n",
              "      <td>0</td>\n",
              "      <td>0</td>\n",
              "      <td>0</td>\n",
              "      <td>7226.301740</td>\n",
              "      <td>8567.549110</td>\n",
              "      <td>12999.542264</td>\n",
              "      <td>2</td>\n",
              "      <td>12</td>\n",
              "      <td>1231</td>\n",
              "    </tr>\n",
              "    <tr>\n",
              "      <th>4</th>\n",
              "      <td>2</td>\n",
              "      <td>3</td>\n",
              "      <td>NaN</td>\n",
              "      <td>NaN</td>\n",
              "      <td>NaN</td>\n",
              "      <td>NaN</td>\n",
              "      <td>6.0</td>\n",
              "      <td>NaN</td>\n",
              "      <td>1.0</td>\n",
              "      <td>NaN</td>\n",
              "      <td>...</td>\n",
              "      <td>0</td>\n",
              "      <td>0</td>\n",
              "      <td>0</td>\n",
              "      <td>0</td>\n",
              "      <td>7226.301740</td>\n",
              "      <td>8567.549110</td>\n",
              "      <td>12999.542264</td>\n",
              "      <td>2</td>\n",
              "      <td>12</td>\n",
              "      <td>1231</td>\n",
              "    </tr>\n",
              "  </tbody>\n",
              "</table>\n",
              "<p>5 rows × 243 columns</p>\n",
              "</div>"
            ],
            "text/plain": [
              "   caseid  pregordr  howpreg_n  howpreg_p  moscurrp  nowprgdk  pregend1  \\\n",
              "0       1         1        NaN        NaN       NaN       NaN       6.0   \n",
              "1       1         2        NaN        NaN       NaN       NaN       6.0   \n",
              "2       2         1        NaN        NaN       NaN       NaN       5.0   \n",
              "3       2         2        NaN        NaN       NaN       NaN       6.0   \n",
              "4       2         3        NaN        NaN       NaN       NaN       6.0   \n",
              "\n",
              "   pregend2  nbrnaliv  multbrth  ...  poverty_i  laborfor_i  religion_i  \\\n",
              "0       NaN       1.0       NaN  ...          0           0           0   \n",
              "1       NaN       1.0       NaN  ...          0           0           0   \n",
              "2       NaN       3.0       5.0  ...          0           0           0   \n",
              "3       NaN       1.0       NaN  ...          0           0           0   \n",
              "4       NaN       1.0       NaN  ...          0           0           0   \n",
              "\n",
              "   metro_i      basewgt  adj_mod_basewgt      finalwgt  secu_p  sest  cmintvw  \n",
              "0        0  3410.389399      3869.349602   6448.271112       2     9     1231  \n",
              "1        0  3410.389399      3869.349602   6448.271112       2     9     1231  \n",
              "2        0  7226.301740      8567.549110  12999.542264       2    12     1231  \n",
              "3        0  7226.301740      8567.549110  12999.542264       2    12     1231  \n",
              "4        0  7226.301740      8567.549110  12999.542264       2    12     1231  \n",
              "\n",
              "[5 rows x 243 columns]"
            ]
          },
          "execution_count": 12,
          "metadata": {},
          "output_type": "execute_result"
        }
      ],
      "source": [
        "preg.head()"
      ]
    },
    {
      "cell_type": "markdown",
      "id": "dc660341",
      "metadata": {
        "id": "dc660341"
      },
      "source": [
        "The left column is the index of the `DataFrame`, which contains a label for each row.\n",
        "In this case, the labels are integers starting from 0, but they can also be strings and other types.\n",
        "\n",
        "The `DataFrame` has an attribute called `columns` that contains the names of the variables."
      ]
    },
    {
      "cell_type": "code",
      "execution_count": 13,
      "id": "4f59f46d",
      "metadata": {
        "colab": {
          "base_uri": "https://localhost:8080/"
        },
        "id": "4f59f46d",
        "outputId": "c2b540b4-ca6e-4d72-fedd-4d826acaab3e",
        "scrolled": true
      },
      "outputs": [
        {
          "data": {
            "text/plain": [
              "Index(['caseid', 'pregordr', 'howpreg_n', 'howpreg_p', 'moscurrp', 'nowprgdk',\n",
              "       'pregend1', 'pregend2', 'nbrnaliv', 'multbrth',\n",
              "       ...\n",
              "       'poverty_i', 'laborfor_i', 'religion_i', 'metro_i', 'basewgt',\n",
              "       'adj_mod_basewgt', 'finalwgt', 'secu_p', 'sest', 'cmintvw'],\n",
              "      dtype='object', length=243)"
            ]
          },
          "execution_count": 13,
          "metadata": {},
          "output_type": "execute_result"
        }
      ],
      "source": [
        "preg.columns"
      ]
    },
    {
      "cell_type": "markdown",
      "id": "e82ef6e6",
      "metadata": {
        "id": "e82ef6e6"
      },
      "source": [
        "The column names are contained in an `Index` object, which is another Pandas data structure.\n",
        "To access a column from a `DataFrame`, you can use the column name as a key."
      ]
    },
    {
      "cell_type": "code",
      "execution_count": 14,
      "id": "e7dbfce1",
      "metadata": {
        "colab": {
          "base_uri": "https://localhost:8080/",
          "height": 204
        },
        "id": "e7dbfce1",
        "outputId": "d07bc09f-c153-4f4a-a5e9-255595bd4473"
      },
      "outputs": [
        {
          "data": {
            "text/plain": [
              "pandas.core.series.Series"
            ]
          },
          "execution_count": 14,
          "metadata": {},
          "output_type": "execute_result"
        }
      ],
      "source": [
        "pregordr = preg[\"pregordr\"]\n",
        "type(pregordr)"
      ]
    },
    {
      "cell_type": "markdown",
      "id": "aad9af2d",
      "metadata": {
        "id": "aad9af2d"
      },
      "source": [
        "The result is a Pandas `Series`, which represents a sequence of values.\n",
        "`Series` also provides `head`, which displays the first few values and their labels."
      ]
    },
    {
      "cell_type": "code",
      "execution_count": 15,
      "id": "189b4869",
      "metadata": {
        "colab": {
          "base_uri": "https://localhost:8080/",
          "height": 241
        },
        "id": "189b4869",
        "outputId": "2629c765-a0f2-4c9d-e76d-3f21711be176"
      },
      "outputs": [
        {
          "data": {
            "text/plain": [
              "0    1\n",
              "1    2\n",
              "2    1\n",
              "3    2\n",
              "4    3\n",
              "Name: pregordr, dtype: int64"
            ]
          },
          "execution_count": 15,
          "metadata": {},
          "output_type": "execute_result"
        }
      ],
      "source": [
        "pregordr.head()"
      ]
    },
    {
      "cell_type": "markdown",
      "id": "1862cdfe",
      "metadata": {
        "id": "1862cdfe"
      },
      "source": [
        "The last line includes the name of the `Series` and `dtype`, which is the type of the values.\n",
        "In this example, `int64` indicates that the values are 64-bit integers.\n",
        "\n",
        "The NSFG dataset contains 243 variables in total.\n",
        "Here are some of the ones we'll use for the explorations in this book.\n",
        "\n",
        "-   `caseid` is the integer ID of the respondent.\n",
        "\n",
        "-   `pregordr` is a pregnancy serial number: the code for a respondent's first pregnancy is 1, for the second pregnancy is 2, and so on.\n",
        "\n",
        "-   `prglngth` is the integer duration of the pregnancy in weeks.\n",
        "\n",
        "-   `outcome` is an integer code for the outcome of the pregnancy. The code 1 indicates a live birth.\n",
        "\n",
        "-   `birthord` is a serial number for live births: the code for a respondent's first child is 1, and so on. For outcomes other than live birth, this field is blank.\n",
        "\n",
        "-   `birthwgt_lb` and `birthwgt_oz` contain the pounds and ounces parts of the birth weight of the baby.\n",
        "\n",
        "-   `agepreg` is the mother's age at the end of the pregnancy.\n",
        "\n",
        "-   `finalwgt` is the statistical weight associated with the respondent. It is a floating-point value that indicates the number of people in the U.S. population this respondent represents."
      ]
    },
    {
      "cell_type": "markdown",
      "id": "37c86aa9",
      "metadata": {
        "id": "37c86aa9"
      },
      "source": [
        "If you read the codebook carefully, you will see that many of the variables are **recodes**, which means that they are not part of the **raw data** collected by the survey -- they are calculated using the raw data.\n",
        "\n",
        "For example, `prglngth` for live births is equal to the raw variable `wksgest` (weeks of gestation) if it is available; otherwise it is estimated using `mosgest * 4.33` (months of gestation times the average number of weeks in a month).\n",
        "\n",
        "Recodes are often based on logic that checks the consistency and accuracy of the data.\n",
        "In general it is a good idea to use recodes when they are available, unless there is a compelling reason to process the raw data yourself."
      ]
    },
    {
      "cell_type": "markdown",
      "id": "ca667a83",
      "metadata": {
        "id": "ca667a83"
      },
      "source": [
        "## Validation\n",
        "\n",
        "When data is exported from one software environment and imported into another, errors might be introduced.\n",
        "And when you are getting familiar with a new dataset, you might decode data incorrectly or misunderstandings its meaning.\n",
        "If you invest time to validate the data, you can save time later and avoid errors.\n",
        "\n",
        "One way to validate data is to compute basic statistics and compare them with published results.\n",
        "For example, the NSFG codebook includes tables that summarize each variable.\n",
        "Here is the table for `outcome`, which encodes the outcome of each pregnancy."
      ]
    },
    {
      "cell_type": "code",
      "execution_count": 16,
      "id": "f65302bc",
      "metadata": {
        "id": "f65302bc",
        "tags": []
      },
      "outputs": [],
      "source": [
        "def show_table(d):\n",
        "    df = pd.DataFrame(d)\n",
        "    return HTML(df.to_html(index=False))"
      ]
    },
    {
      "cell_type": "code",
      "execution_count": 17,
      "id": "3b2e14f8",
      "metadata": {
        "colab": {
          "base_uri": "https://localhost:8080/",
          "height": 269
        },
        "id": "3b2e14f8",
        "outputId": "ef24f423-07ef-4562-e592-0ef54e9d4682",
        "tags": []
      },
      "outputs": [
        {
          "data": {
            "text/html": [
              "<table border=\"1\" class=\"dataframe\">\n",
              "  <thead>\n",
              "    <tr style=\"text-align: right;\">\n",
              "      <th>Value</th>\n",
              "      <th>Label</th>\n",
              "      <th>Total</th>\n",
              "    </tr>\n",
              "  </thead>\n",
              "  <tbody>\n",
              "    <tr>\n",
              "      <td>1</td>\n",
              "      <td>LIVE BIRTH</td>\n",
              "      <td>9148</td>\n",
              "    </tr>\n",
              "    <tr>\n",
              "      <td>2</td>\n",
              "      <td>INDUCED ABORTION</td>\n",
              "      <td>1862</td>\n",
              "    </tr>\n",
              "    <tr>\n",
              "      <td>3</td>\n",
              "      <td>STILLBIRTH</td>\n",
              "      <td>120</td>\n",
              "    </tr>\n",
              "    <tr>\n",
              "      <td>4</td>\n",
              "      <td>MISCARRIAGE</td>\n",
              "      <td>1921</td>\n",
              "    </tr>\n",
              "    <tr>\n",
              "      <td>5</td>\n",
              "      <td>ECTOPIC PREGNANCY</td>\n",
              "      <td>190</td>\n",
              "    </tr>\n",
              "    <tr>\n",
              "      <td>6</td>\n",
              "      <td>CURRENT PREGNANCY</td>\n",
              "      <td>352</td>\n",
              "    </tr>\n",
              "    <tr>\n",
              "      <td>Total</td>\n",
              "      <td></td>\n",
              "      <td>13593</td>\n",
              "    </tr>\n",
              "  </tbody>\n",
              "</table>"
            ],
            "text/plain": [
              "<IPython.core.display.HTML object>"
            ]
          },
          "execution_count": 17,
          "metadata": {},
          "output_type": "execute_result"
        }
      ],
      "source": [
        "d = {\n",
        "    \"Value\": [1, 2, 3, 4, 5, 6, \"Total\"],\n",
        "    \"Label\": [\n",
        "        \"LIVE BIRTH\",\n",
        "        \"INDUCED ABORTION\",\n",
        "        \"STILLBIRTH\",\n",
        "        \"MISCARRIAGE\",\n",
        "        \"ECTOPIC PREGNANCY\",\n",
        "        \"CURRENT PREGNANCY\",\n",
        "        \"\",\n",
        "    ],\n",
        "    \"Total\": [9148, 1862, 120, 1921, 190, 352, 13593],\n",
        "}\n",
        "\n",
        "show_table(d)"
      ]
    },
    {
      "cell_type": "markdown",
      "id": "cb9d01a0",
      "metadata": {
        "id": "cb9d01a0"
      },
      "source": [
        "The \"Total\" column indicates the number of pregnancies with each outcome.\n",
        "To check these totals, we'll use the `value_counts` method, which counts the number of times each value appears, and `sort_index`, which sorts the results according to the values in the `Index` (the left column)."
      ]
    },
    {
      "cell_type": "code",
      "execution_count": 18,
      "id": "61fc2a3d",
      "metadata": {
        "colab": {
          "base_uri": "https://localhost:8080/",
          "height": 304
        },
        "id": "61fc2a3d",
        "outputId": "3b0c4ef1-14d7-47fc-a85c-2ad67a321dbf"
      },
      "outputs": [
        {
          "data": {
            "text/plain": [
              "outcome\n",
              "1    9148\n",
              "2    1862\n",
              "3     120\n",
              "4    1921\n",
              "5     190\n",
              "6     352\n",
              "Name: count, dtype: int64"
            ]
          },
          "execution_count": 18,
          "metadata": {},
          "output_type": "execute_result"
        }
      ],
      "source": [
        "preg[\"outcome\"].value_counts().sort_index()"
      ]
    },
    {
      "cell_type": "markdown",
      "id": "d57f49ea",
      "metadata": {
        "id": "d57f49ea"
      },
      "source": [
        "Comparing the results with the published table, we can confirm that the values in `outcome` are correct.\n",
        "Similarly, here is the published table for `birthwgt_lb`."
      ]
    },
    {
      "cell_type": "code",
      "execution_count": 19,
      "id": "e6986496",
      "metadata": {
        "colab": {
          "base_uri": "https://localhost:8080/",
          "height": 363
        },
        "id": "e6986496",
        "outputId": "4ab4309a-f4c4-47e3-fe54-aa8c3a94e732",
        "tags": []
      },
      "outputs": [
        {
          "data": {
            "text/html": [
              "<table border=\"1\" class=\"dataframe\">\n",
              "  <thead>\n",
              "    <tr style=\"text-align: right;\">\n",
              "      <th>Value</th>\n",
              "      <th>Label</th>\n",
              "      <th>Total</th>\n",
              "    </tr>\n",
              "  </thead>\n",
              "  <tbody>\n",
              "    <tr>\n",
              "      <td>.</td>\n",
              "      <td>inapplicable</td>\n",
              "      <td>4449</td>\n",
              "    </tr>\n",
              "    <tr>\n",
              "      <td>0-5</td>\n",
              "      <td>UNDER 6 POUNDS</td>\n",
              "      <td>1125</td>\n",
              "    </tr>\n",
              "    <tr>\n",
              "      <td>6</td>\n",
              "      <td>6 POUNDS</td>\n",
              "      <td>2223</td>\n",
              "    </tr>\n",
              "    <tr>\n",
              "      <td>7</td>\n",
              "      <td>7 POUNDS</td>\n",
              "      <td>3049</td>\n",
              "    </tr>\n",
              "    <tr>\n",
              "      <td>8</td>\n",
              "      <td>8 POUNDS</td>\n",
              "      <td>1889</td>\n",
              "    </tr>\n",
              "    <tr>\n",
              "      <td>9-95</td>\n",
              "      <td>9 POUNDS OR MORE</td>\n",
              "      <td>799</td>\n",
              "    </tr>\n",
              "    <tr>\n",
              "      <td>97</td>\n",
              "      <td>Not ascertained</td>\n",
              "      <td>1</td>\n",
              "    </tr>\n",
              "    <tr>\n",
              "      <td>98</td>\n",
              "      <td>REFUSED</td>\n",
              "      <td>1</td>\n",
              "    </tr>\n",
              "    <tr>\n",
              "      <td>99</td>\n",
              "      <td>DON'T KNOW</td>\n",
              "      <td>57</td>\n",
              "    </tr>\n",
              "    <tr>\n",
              "      <td>Total</td>\n",
              "      <td></td>\n",
              "      <td>13593</td>\n",
              "    </tr>\n",
              "  </tbody>\n",
              "</table>"
            ],
            "text/plain": [
              "<IPython.core.display.HTML object>"
            ]
          },
          "execution_count": 19,
          "metadata": {},
          "output_type": "execute_result"
        }
      ],
      "source": [
        "d = {\n",
        "    \"Value\": [\".\", \"0-5\", \"6\", \"7\", \"8\", \"9-95\", \"97\", \"98\", \"99\", \"Total\"],\n",
        "    \"Label\": [\n",
        "        \"inapplicable\",\n",
        "        \"UNDER 6 POUNDS\",\n",
        "        \"6 POUNDS\",\n",
        "        \"7 POUNDS\",\n",
        "        \"8 POUNDS\",\n",
        "        \"9 POUNDS OR MORE\",\n",
        "        \"Not ascertained\",\n",
        "        \"REFUSED\",\n",
        "        \"DON'T KNOW\",\n",
        "        \"\",\n",
        "    ],\n",
        "    \"Total\": [4449, 1125, 2223, 3049, 1889, 799, 1, 1, 57, 13593],\n",
        "}\n",
        "\n",
        "show_table(d)"
      ]
    },
    {
      "cell_type": "markdown",
      "id": "afccd71b",
      "metadata": {
        "id": "afccd71b"
      },
      "source": [
        "Birth weight is only recorded for pregnancies that ended in a live birth.\n",
        "The table indicates that there are 4449 cases where this variable is inapplicable.\n",
        "In addition, there is one case where the question was not asked, one where the respondent did not answer, and 57 cases where they did not know.\n",
        "\n",
        "Again, we can use `value_counts` to compare the counts in the dataset to the counts in the codebook."
      ]
    },
    {
      "cell_type": "code",
      "execution_count": 20,
      "id": "c2cdb474",
      "metadata": {
        "colab": {
          "base_uri": "https://localhost:8080/",
          "height": 774
        },
        "id": "c2cdb474",
        "outputId": "fe3ac0ab-0e58-4f28-c656-8e56f3716813"
      },
      "outputs": [
        {
          "data": {
            "text/plain": [
              "birthwgt_lb\n",
              "0.0        8\n",
              "1.0       40\n",
              "2.0       53\n",
              "3.0       98\n",
              "4.0      229\n",
              "5.0      697\n",
              "6.0     2223\n",
              "7.0     3049\n",
              "8.0     1889\n",
              "9.0      623\n",
              "10.0     132\n",
              "11.0      26\n",
              "12.0      10\n",
              "13.0       3\n",
              "14.0       3\n",
              "15.0       1\n",
              "51.0       1\n",
              "97.0       1\n",
              "98.0       1\n",
              "99.0      57\n",
              "NaN     4449\n",
              "Name: count, dtype: int64"
            ]
          },
          "execution_count": 20,
          "metadata": {},
          "output_type": "execute_result"
        }
      ],
      "source": [
        "counts = preg[\"birthwgt_lb\"].value_counts(dropna=False).sort_index()\n",
        "# counts = preg[\"birthwgt_oz\"].value_counts(dropna=False).sort_index()\n",
        "\n",
        "counts"
      ]
    },
    {
      "cell_type": "markdown",
      "id": "33f9b877",
      "metadata": {
        "id": "33f9b877"
      },
      "source": [
        "The argument `dropna=False` means that `value_counts` does not ignore values that are \"NA\" or \"Not applicable\".\n",
        "These values appear in the results as `NaN`, which stands for \"Not a number\" -- and the count of these values is consistent with the count of inapplicable cases in the codebook.\n",
        "\n",
        "The counts for 6, 7, and 8 pounds are consistent with the codebook.\n",
        "To check the counts for the weight range from 0 to 5 pounds, we can use an attribute called `loc` -- which is short for \"location\" -- and a slice index to select a subset of the counts."
      ]
    },
    {
      "cell_type": "code",
      "execution_count": 21,
      "id": "85b8604f",
      "metadata": {
        "colab": {
          "base_uri": "https://localhost:8080/",
          "height": 304
        },
        "id": "85b8604f",
        "outputId": "befcb0c1-c2d1-4244-fa61-653cb76520e7"
      },
      "outputs": [
        {
          "data": {
            "text/plain": [
              "birthwgt_lb\n",
              "0.0      8\n",
              "1.0     40\n",
              "2.0     53\n",
              "3.0     98\n",
              "4.0    229\n",
              "5.0    697\n",
              "Name: count, dtype: int64"
            ]
          },
          "execution_count": 21,
          "metadata": {},
          "output_type": "execute_result"
        }
      ],
      "source": [
        "# counts.loc[0:5]\n",
        "counts.loc[0:5]"
      ]
    },
    {
      "cell_type": "markdown",
      "id": "8e166a5c",
      "metadata": {
        "id": "8e166a5c"
      },
      "source": [
        "And we can use the `sum` method to add them up."
      ]
    },
    {
      "cell_type": "code",
      "execution_count": 22,
      "id": "2f4f1679",
      "metadata": {
        "colab": {
          "base_uri": "https://localhost:8080/"
        },
        "id": "2f4f1679",
        "outputId": "d2511c9b-d83f-4551-cd10-218f1485b0d7"
      },
      "outputs": [
        {
          "data": {
            "text/plain": [
              "np.int64(1125)"
            ]
          },
          "execution_count": 22,
          "metadata": {},
          "output_type": "execute_result"
        }
      ],
      "source": [
        "counts.loc[0:5].sum()"
      ]
    },
    {
      "cell_type": "markdown",
      "id": "c8f9a1b8",
      "metadata": {
        "id": "c8f9a1b8"
      },
      "source": [
        "The total is consistent with the codebook.\n",
        "\n",
        "The values 97, 98, and 99 represent cases where the birth weight is unknown.\n",
        "There are several ways we might handle missing data.\n",
        "A simple option is to replace these values with `NaN`.\n",
        "At the same time, we will also replace a value that is clearly wrong, 51 pounds.\n",
        "\n",
        "We can use the replace method like this:"
      ]
    },
    {
      "cell_type": "code",
      "execution_count": 23,
      "id": "412f5cc5",
      "metadata": {
        "id": "412f5cc5"
      },
      "outputs": [],
      "source": [
        "preg[\"birthwgt_lb\"] = preg[\"birthwgt_lb\"].replace([51, 97, 98, 99], np.nan)"
      ]
    },
    {
      "cell_type": "markdown",
      "id": "cab151e6",
      "metadata": {
        "id": "cab151e6"
      },
      "source": [
        "The first argument is a list of values to be replaced.\n",
        "The second argument, `np.nan`, gets the `NaN` value from NumPy.\n",
        "\n",
        "When you read data like this, you often have to check for errors and deal with special values.\n",
        "Operations like this are called **data cleaning**."
      ]
    },
    {
      "cell_type": "markdown",
      "id": "1001b3f1",
      "metadata": {
        "id": "1001b3f1"
      },
      "source": [
        "## Transformation\n",
        "\n",
        "As another kind of data cleaning, sometimes we have to convert data into different formats, and perform other calculations.\n",
        "\n",
        "For example, `agepreg` contains the mother's age at the end of the pregnancy.\n",
        "According to the codebook, it is an integer number of centiyears (hundredths of a year), as we can tell if we use the `mean` method to compute its average."
      ]
    },
    {
      "cell_type": "code",
      "execution_count": 24,
      "id": "4075d0fd",
      "metadata": {
        "colab": {
          "base_uri": "https://localhost:8080/"
        },
        "id": "4075d0fd",
        "outputId": "2117c23b-4291-4e7a-d842-b7863a1e4d54"
      },
      "outputs": [
        {
          "data": {
            "text/plain": [
              "np.float64(2468.8151197039497)"
            ]
          },
          "execution_count": 24,
          "metadata": {},
          "output_type": "execute_result"
        }
      ],
      "source": [
        "preg[\"agepreg\"].mean()"
      ]
    },
    {
      "cell_type": "markdown",
      "id": "a668ab41",
      "metadata": {
        "id": "a668ab41"
      },
      "source": [
        "To convert it to years, we can divide through by 100."
      ]
    },
    {
      "cell_type": "code",
      "execution_count": 25,
      "id": "feef9b14",
      "metadata": {
        "colab": {
          "base_uri": "https://localhost:8080/"
        },
        "id": "feef9b14",
        "outputId": "0b554f9d-0f62-47f6-f986-177fa5ed3a1e"
      },
      "outputs": [
        {
          "data": {
            "text/plain": [
              "np.float64(24.6881511970395)"
            ]
          },
          "execution_count": 25,
          "metadata": {},
          "output_type": "execute_result"
        }
      ],
      "source": [
        "preg[\"agepreg\"] /= 100.0\n",
        "preg[\"agepreg\"].mean()"
      ]
    },
    {
      "cell_type": "markdown",
      "id": "30376097",
      "metadata": {
        "id": "30376097"
      },
      "source": [
        "Now the average is more credible.\n",
        "\n",
        "As another example, `birthwgt_lb` and `birthwgt_oz` contain birth weights with the pounds and ounces in separate columns.\n",
        "It will be more convenient to combine them into as single column that contains weights in pounds and fractions of a pound.\n",
        "\n",
        "First we'll clean `birthwgt_oz` as we did with `birthwgt_lb`."
      ]
    },
    {
      "cell_type": "code",
      "execution_count": 26,
      "id": "ef400303",
      "metadata": {
        "colab": {
          "base_uri": "https://localhost:8080/",
          "height": 743
        },
        "id": "ef400303",
        "outputId": "10301600-a144-400b-a620-3f8d91264251",
        "tags": []
      },
      "outputs": [
        {
          "data": {
            "text/plain": [
              "birthwgt_oz\n",
              "0.0     1037\n",
              "1.0      408\n",
              "2.0      603\n",
              "3.0      533\n",
              "4.0      525\n",
              "5.0      535\n",
              "6.0      709\n",
              "7.0      501\n",
              "8.0      756\n",
              "9.0      505\n",
              "10.0     475\n",
              "11.0     557\n",
              "12.0     555\n",
              "13.0     487\n",
              "14.0     475\n",
              "15.0     378\n",
              "97.0       1\n",
              "98.0       1\n",
              "99.0      46\n",
              "NaN     4506\n",
              "Name: count, dtype: int64"
            ]
          },
          "execution_count": 26,
          "metadata": {},
          "output_type": "execute_result"
        }
      ],
      "source": [
        "preg[\"birthwgt_oz\"].value_counts(dropna=False).sort_index()"
      ]
    },
    {
      "cell_type": "code",
      "execution_count": 27,
      "id": "edfb3ad0",
      "metadata": {
        "id": "edfb3ad0"
      },
      "outputs": [],
      "source": [
        "preg[\"birthwgt_oz\"] = preg[\"birthwgt_oz\"].replace([97, 98, 99], np.nan)"
      ]
    },
    {
      "cell_type": "markdown",
      "id": "330e50a4",
      "metadata": {
        "id": "330e50a4"
      },
      "source": [
        "Now we can use the cleaned values to create a new column that combines pounds and ounces into a single quantity."
      ]
    },
    {
      "cell_type": "code",
      "execution_count": 28,
      "id": "99e754ca",
      "metadata": {
        "colab": {
          "base_uri": "https://localhost:8080/"
        },
        "id": "99e754ca",
        "outputId": "1bbd6585-e134-4507-e9bb-33eb2123f732"
      },
      "outputs": [
        {
          "data": {
            "text/plain": [
              "np.float64(7.265628457623368)"
            ]
          },
          "execution_count": 28,
          "metadata": {},
          "output_type": "execute_result"
        }
      ],
      "source": [
        "preg[\"totalwgt_lb\"] = preg[\"birthwgt_lb\"] + preg[\"birthwgt_oz\"] / 16.0\n",
        "preg[\"totalwgt_lb\"].mean()"
      ]
    },
    {
      "cell_type": "code",
      "execution_count": 29,
      "id": "ZIn_LeJxyz1G",
      "metadata": {
        "colab": {
          "base_uri": "https://localhost:8080/",
          "height": 458
        },
        "id": "ZIn_LeJxyz1G",
        "outputId": "22ff59ab-cc28-4371-88d3-eb618bfb20f6"
      },
      "outputs": [
        {
          "data": {
            "text/plain": [
              "0        8.8125\n",
              "1        7.8750\n",
              "2        9.1250\n",
              "3        7.0000\n",
              "4        6.1875\n",
              "          ...  \n",
              "13588    6.1875\n",
              "13589       NaN\n",
              "13590       NaN\n",
              "13591    7.5000\n",
              "13592    7.5000\n",
              "Name: totalwgt_lb, Length: 13593, dtype: float64"
            ]
          },
          "execution_count": 29,
          "metadata": {},
          "output_type": "execute_result"
        }
      ],
      "source": [
        "preg[\"totalwgt_lb\"]"
      ]
    },
    {
      "cell_type": "markdown",
      "id": "9328c705",
      "metadata": {
        "id": "9328c705"
      },
      "source": [
        "The average of the result seems plausible."
      ]
    },
    {
      "cell_type": "markdown",
      "id": "6b17ca75",
      "metadata": {
        "id": "6b17ca75",
        "tags": []
      },
      "source": [
        "(section_summary_statistics)=\n",
        "## Summary Statistics\n",
        "\n",
        "A **statistic** is a number derived from a dataset, usually intended to quantify some aspect of the data.\n",
        "Examples include the count, mean, variance, and standard deviation.\n",
        "\n",
        "A `Series` object has a `count` method that returns the number of values that are not `nan`."
      ]
    },
    {
      "cell_type": "code",
      "execution_count": 30,
      "id": "a124ce54",
      "metadata": {
        "colab": {
          "base_uri": "https://localhost:8080/"
        },
        "id": "a124ce54",
        "outputId": "a5372925-5b00-480b-f500-907140249448"
      },
      "outputs": [
        {
          "data": {
            "text/plain": [
              "np.int64(9038)"
            ]
          },
          "execution_count": 30,
          "metadata": {},
          "output_type": "execute_result"
        }
      ],
      "source": [
        "weights = preg[\"totalwgt_lb\"]\n",
        "n = weights.count()\n",
        "n"
      ]
    },
    {
      "cell_type": "markdown",
      "id": "b726a26b",
      "metadata": {
        "id": "b726a26b"
      },
      "source": [
        "It also provides a `sum` method that returns the sum of the values -- we can use it to compute the mean like this."
      ]
    },
    {
      "cell_type": "code",
      "execution_count": 31,
      "id": "370eb75e",
      "metadata": {
        "colab": {
          "base_uri": "https://localhost:8080/"
        },
        "id": "370eb75e",
        "outputId": "6acafce3-1a07-4a56-96bb-6a659d141042"
      },
      "outputs": [
        {
          "data": {
            "text/plain": [
              "np.float64(7.265628457623368)"
            ]
          },
          "execution_count": 31,
          "metadata": {},
          "output_type": "execute_result"
        }
      ],
      "source": [
        "mean = weights.sum() / n\n",
        "mean"
      ]
    },
    {
      "cell_type": "markdown",
      "id": "83159334",
      "metadata": {
        "id": "83159334"
      },
      "source": [
        "But as we've already seen, there's also a `mean` method that does the same thing."
      ]
    },
    {
      "cell_type": "code",
      "execution_count": 32,
      "id": "aebf1089",
      "metadata": {
        "colab": {
          "base_uri": "https://localhost:8080/"
        },
        "id": "aebf1089",
        "outputId": "fd05636b-26d9-4413-9320-9a91be48d8cf"
      },
      "outputs": [
        {
          "data": {
            "text/plain": [
              "np.float64(7.265628457623368)"
            ]
          },
          "execution_count": 32,
          "metadata": {},
          "output_type": "execute_result"
        }
      ],
      "source": [
        "weights.mean()"
      ]
    },
    {
      "cell_type": "markdown",
      "id": "02b4e371",
      "metadata": {
        "id": "02b4e371"
      },
      "source": [
        "In this dataset, the average birth weight is about 7.3 pounds.\n",
        "\n",
        "Variance is a statistic that quantifies the spread of a set of values.\n",
        "It is the mean of the squared deviations, which are the distances of each point from the mean."
      ]
    },
    {
      "cell_type": "code",
      "execution_count": 33,
      "id": "17efbc62",
      "metadata": {
        "id": "17efbc62"
      },
      "outputs": [],
      "source": [
        "squared_deviations = (weights - mean) ** 2"
      ]
    },
    {
      "cell_type": "code",
      "execution_count": 34,
      "id": "8E4m_pV2zs8G",
      "metadata": {
        "colab": {
          "base_uri": "https://localhost:8080/",
          "height": 458
        },
        "id": "8E4m_pV2zs8G",
        "outputId": "62d07e8d-020e-436f-cd5a-1397dd9177dd"
      },
      "outputs": [
        {
          "data": {
            "text/plain": [
              "0        2.392812\n",
              "1        0.371334\n",
              "2        3.457263\n",
              "3        0.070558\n",
              "4        1.162361\n",
              "           ...   \n",
              "13588    1.162361\n",
              "13589         NaN\n",
              "13590         NaN\n",
              "13591    0.054930\n",
              "13592    0.054930\n",
              "Name: totalwgt_lb, Length: 13593, dtype: float64"
            ]
          },
          "execution_count": 34,
          "metadata": {},
          "output_type": "execute_result"
        }
      ],
      "source": [
        "squared_deviations"
      ]
    },
    {
      "cell_type": "markdown",
      "id": "325b143d",
      "metadata": {
        "id": "325b143d"
      },
      "source": [
        "We can compute the mean of the squared deviations like this."
      ]
    },
    {
      "cell_type": "code",
      "execution_count": 35,
      "id": "10bc8188",
      "metadata": {
        "colab": {
          "base_uri": "https://localhost:8080/"
        },
        "id": "10bc8188",
        "outputId": "100790f9-d80f-4709-ffdb-3ef243a845f5"
      },
      "outputs": [
        {
          "data": {
            "text/plain": [
              "np.float64(1.983070989750022)"
            ]
          },
          "execution_count": 35,
          "metadata": {},
          "output_type": "execute_result"
        }
      ],
      "source": [
        "var = squared_deviations.sum() / n\n",
        "var"
      ]
    },
    {
      "cell_type": "markdown",
      "id": "199652a0",
      "metadata": {
        "id": "199652a0"
      },
      "source": [
        "As you might expect, `Series` provides a `var` method that does *almost* the same thing."
      ]
    },
    {
      "cell_type": "code",
      "execution_count": 36,
      "id": "09b56f75",
      "metadata": {
        "colab": {
          "base_uri": "https://localhost:8080/"
        },
        "id": "09b56f75",
        "outputId": "361b1fb9-bb4f-4bb1-e334-204dc069931b"
      },
      "outputs": [
        {
          "data": {
            "text/plain": [
              "np.float64(1.9832904288326545)"
            ]
          },
          "execution_count": 36,
          "metadata": {},
          "output_type": "execute_result"
        }
      ],
      "source": [
        "weights.var()"
      ]
    },
    {
      "cell_type": "markdown",
      "id": "b9fb9471",
      "metadata": {
        "id": "b9fb9471"
      },
      "source": [
        "The result is slightly different because when the `var` method computes the mean of the squared deviations, it divides by `n-1` rather than `n`.\n",
        "That's because there are two ways to compute the variance of a sample, depending on what you are trying to do.\n",
        "I'll explain the difference in [Chapter 8](section_estimating_variance) -- but in practice it usually doesn't matter.\n",
        "If you prefer the version with `n` in the denominator, you can get it by passing `ddof=0` as a keyword argument to the `var` method."
      ]
    },
    {
      "cell_type": "code",
      "execution_count": 37,
      "id": "4758f78c",
      "metadata": {
        "colab": {
          "base_uri": "https://localhost:8080/"
        },
        "id": "4758f78c",
        "outputId": "29efa1d1-9713-4c30-db14-7a2ea6582f92"
      },
      "outputs": [
        {
          "data": {
            "text/plain": [
              "np.float64(1.983070989750022)"
            ]
          },
          "execution_count": 37,
          "metadata": {},
          "output_type": "execute_result"
        }
      ],
      "source": [
        "weights.var(ddof=0)"
      ]
    },
    {
      "cell_type": "markdown",
      "id": "48a53ff2",
      "metadata": {
        "id": "48a53ff2"
      },
      "source": [
        "In this dataset, the variance of the birth weights is about 1.98, but that value is hard to interpret -- for one thing, it is in units of pounds squared.\n",
        "Variance is useful in some computations, but not a good way to describe a dataset.\n",
        "A better option is the **standard deviation**, which is the square root of variance.\n",
        "We can compute it like this."
      ]
    },
    {
      "cell_type": "code",
      "execution_count": 38,
      "id": "26d51d61",
      "metadata": {
        "colab": {
          "base_uri": "https://localhost:8080/"
        },
        "id": "26d51d61",
        "outputId": "e2b4ae24-950c-467b-de71-be8f3ac45989"
      },
      "outputs": [
        {
          "data": {
            "text/plain": [
              "np.float64(1.40821553384062)"
            ]
          },
          "execution_count": 38,
          "metadata": {},
          "output_type": "execute_result"
        }
      ],
      "source": [
        "std = np.sqrt(var)\n",
        "std"
      ]
    },
    {
      "cell_type": "markdown",
      "id": "16171375",
      "metadata": {
        "id": "16171375"
      },
      "source": [
        "Or, we can use the `std` method."
      ]
    },
    {
      "cell_type": "code",
      "execution_count": 39,
      "id": "70647ffd",
      "metadata": {
        "colab": {
          "base_uri": "https://localhost:8080/"
        },
        "id": "70647ffd",
        "outputId": "cf891516-0c63-452f-8e1d-43609336bdd7"
      },
      "outputs": [
        {
          "data": {
            "text/plain": [
              "np.float64(1.40821553384062)"
            ]
          },
          "execution_count": 39,
          "metadata": {},
          "output_type": "execute_result"
        }
      ],
      "source": [
        "weights.std(ddof=0)"
      ]
    },
    {
      "cell_type": "markdown",
      "id": "c76c7a47",
      "metadata": {
        "id": "c76c7a47"
      },
      "source": [
        "In this dataset, the standard deviation of birth weights is about 1.4 pounds.\n",
        "Informally, values that are one or two standard deviations from the mean are common -- values farther from the mean are rare."
      ]
    },
    {
      "cell_type": "markdown",
      "id": "4234e27e",
      "metadata": {
        "id": "4234e27e"
      },
      "source": [
        "## Interpretation\n",
        "\n",
        "To work with data effectively, you have to think on two levels at the same time: the level of statistics and the level of context.\n",
        "As an example, let's select the rows in the pregnancy file with `caseid` 10229.\n",
        "The `query` method takes a string that can contain column names, comparison operators, and numbers, among other things."
      ]
    },
    {
      "cell_type": "code",
      "execution_count": 40,
      "id": "34f9a644",
      "metadata": {
        "id": "34f9a644"
      },
      "outputs": [
        {
          "data": {
            "text/plain": [
              "(7, 244)"
            ]
          },
          "execution_count": 40,
          "metadata": {},
          "output_type": "execute_result"
        }
      ],
      "source": [
        "subset = preg.query(\"caseid == 10229\")\n",
        "subset.shape"
      ]
    },
    {
      "cell_type": "markdown",
      "id": "c63cae88",
      "metadata": {
        "id": "c63cae88"
      },
      "source": [
        "The result is a `DataFrame` that contains only the rows where the query is `True`.\n",
        "This respondent reported seven pregnancies -- here are their outcomes, which are recorded in chronological order."
      ]
    },
    {
      "cell_type": "code",
      "execution_count": 41,
      "id": "e4d4907d",
      "metadata": {
        "id": "e4d4907d"
      },
      "outputs": [
        {
          "data": {
            "text/plain": [
              "array([4, 4, 4, 4, 4, 4, 1])"
            ]
          },
          "execution_count": 41,
          "metadata": {},
          "output_type": "execute_result"
        }
      ],
      "source": [
        "subset[\"outcome\"].values"
      ]
    },
    {
      "cell_type": "markdown",
      "id": "0c5ef31b",
      "metadata": {
        "id": "0c5ef31b"
      },
      "source": [
        "The outcome code `1` indicates a live birth.\n",
        "Code `4` indicates a miscarriage -- that is, a pregnancy loss, usually with no known medical cause.\n",
        "\n",
        "Statistically this respondent is not unusual.\n",
        "Pregnancy loss is common and there are other respondents who reported as many instances.\n",
        "But remembering the context, this data tells the story of a woman who was pregnant six times, each time ending in miscarriage.\n",
        "Her seventh and most recent pregnancy ended in a live birth.\n",
        "If we consider this data with empathy, it is natural to be moved by the story it tells.\n",
        "\n",
        "Each row in the NSFG dataset represents a person who provided honest answers to many personal and difficult questions.\n",
        "We can use this data to answer statistical questions about family life, reproduction, and health.\n",
        "At the same time, we have an obligation to consider the people represented by the data, and to afford them respect and gratitude."
      ]
    },
    {
      "cell_type": "markdown",
      "id": "74c62acf",
      "metadata": {
        "id": "74c62acf"
      },
      "source": [
        "## Glossary\n",
        "\n",
        "The end of each chapter provides a glossary of words that are defined in the chapter.\n",
        "\n",
        "- **anecdotal evidence:** Data collected informally from a small number of individual cases, often without systematic sampling.\n",
        "\n",
        "- **cross-sectional study:** A study that collects data from a representative sample of a population at a single point or interval in time.\n",
        "\n",
        "- **cycle:** One data-collection interval in a study that collects data at multiple intervals in time.\n",
        "\n",
        "- **population:** The entire group of individuals or items that is the subject of a study.\n",
        "\n",
        "- **sample:** A subset of a population, often chosen at random.\n",
        "\n",
        "- **respondents:** People who participate in a survey and respond to questions.\n",
        "\n",
        "- **representative:** A sample is representative if it is similar to the population in ways that are important for the purposes of the study.\n",
        "\n",
        "- **stratified:** A sample is stratified if it deliberately oversamples some groups, usually to make sure that enough members are included to support valid conclusions.\n",
        "\n",
        "- **oversampled:** A group is oversampled if its members have a higher chance of appearing in a sample.\n",
        "\n",
        "- **variable:** In survey data, a variable is a collection of responses to questions or values computed from responses.\n",
        "\n",
        "- **codebook:** A document that describes the variables in a dataset, and provides other information about the data.\n",
        "\n",
        "- **recode:** A variable that is computed based on other variables in a dataset.\n",
        "\n",
        "- **raw data:** Data that has not been processed after collection.\n",
        "\n",
        "- **data cleaning:** A process for identifying and correcting errors in a dataset, dealing with missing values, and computing recodes.\n",
        "\n",
        "- **statistic:** A value that describes or summarizes a property of a sample.\n",
        "\n",
        "- **standard deviation:** A statistic that quantifies the spread of data around the mean."
      ]
    },
    {
      "cell_type": "markdown",
      "id": "3b3f8c2a",
      "metadata": {
        "collapsed": true,
        "id": "3b3f8c2a"
      },
      "source": [
        "## Exercises\n",
        "\n",
        "The exercises for this chapter are based on the NSFG pregnancy file."
      ]
    },
    {
      "cell_type": "markdown",
      "id": "90fd57dd",
      "metadata": {
        "id": "90fd57dd"
      },
      "source": [
        "### Exercise 1.1\n",
        "\n",
        "Select the `birthord` column from `preg`, print the value counts, and compare to results published in the  codebook at <https://ftp.cdc.gov/pub/Health_Statistics/NCHS/Dataset_Documentation/NSFG/Cycle6Codebook-Pregnancy.pdf>."
      ]
    },
    {
      "cell_type": "code",
      "execution_count": 45,
      "id": "09e79aba",
      "metadata": {
        "id": "09e79aba"
      },
      "outputs": [
        {
          "name": "stdout",
          "output_type": "stream",
          "text": [
            "birthord\n",
            "1.0     4413\n",
            "2.0     2874\n",
            "3.0     1234\n",
            "4.0      421\n",
            "5.0      126\n",
            "6.0       50\n",
            "7.0       20\n",
            "8.0        7\n",
            "9.0        2\n",
            "10.0       1\n",
            "NaN     4445\n",
            "Name: count, dtype: int64\n"
          ]
        }
      ],
      "source": [
        "# Solution goes here\n",
        "birth_orders = preg[\"birthord\"]\n",
        "print(birth_orders.value_counts(dropna=False).sort_index())"
      ]
    },
    {
      "cell_type": "markdown",
      "id": "4a6aabaa",
      "metadata": {
        "id": "4a6aabaa"
      },
      "source": [
        "### Exercise 1.2\n",
        "\n",
        "Create a new column named `totalwgt_kg` that contains birth weight in kilograms (there are approximately 2.2 pounds per kilogram).\n",
        "Compute the mean and standard deviation of the new column."
      ]
    },
    {
      "cell_type": "code",
      "execution_count": 56,
      "id": "009d0f95",
      "metadata": {
        "id": "009d0f95"
      },
      "outputs": [
        {
          "name": "stdout",
          "output_type": "stream",
          "text": [
            "mean weights kilograms 3.302558389828803\n",
            "standard deviation for weight in kilos 0.6401333843495532\n",
            "mean kilogram weight hard way 2.1958745477284425\n",
            "different between length of the series and count, length: 13593 counts: 9038\n",
            "ok that is it, so they are different because of the nulls, we want not null, mean must auto exclude it\n",
            "corrected mean weight in kilos: 3.302558389828803\n",
            " squared deviations series: 0        0.494383\n",
            "1        0.076722\n",
            "2        0.714310\n",
            "3        0.014578\n",
            "4        0.240157\n",
            "           ...   \n",
            "13588    0.240157\n",
            "13589         NaN\n",
            "13590         NaN\n",
            "13591    0.011349\n",
            "13592    0.011349\n",
            "Name: totalwgt_kg, Length: 13593, dtype: float64 and then the two variances: n 0.4097254111053764 and n-1 0.4097707497588129\n",
            " now an interesting test, which of the two does pandas use, n-1 or n? Let's see, with n, std dev would be 0.6400979699275544 and with n-1 would be 0.6401333843495532\n",
            "there you have it, pandas standard deviation is using the n-1, which is not ddof=0\n"
          ]
        }
      ],
      "source": [
        "# Solution goes here\n",
        "preg[\"totalwgt_kg\"] = preg[\"totalwgt_lb\"] / 2.2\n",
        "\n",
        "# now the easy way\n",
        "print(f\"mean weights kilograms {preg[\"totalwgt_kg\"].mean()}\")\n",
        "print(f\"standard deviation for weight in kilos {preg[\"totalwgt_kg\"].std()}\")\n",
        "\n",
        "# now the hard way\n",
        "wrong_mean_kg_weight = preg[\"totalwgt_kg\"].sum()/len(preg[\"totalwgt_kg\"])\n",
        "\n",
        "print(f\"mean kilogram weight hard way {wrong_mean_kg_weight}\")\n",
        "# a ha! this is not right, I wonder something\n",
        "print(f\"different between length of the series and count, length: {len(preg[\"totalwgt_kg\"])} counts: {preg[\"totalwgt_kg\"].count()}\")\n",
        "print(\"ok that is it, so they are different because of the nulls, we want not null, mean must auto exclude it\")\n",
        "\n",
        "mean_kg_weight = preg[\"totalwgt_kg\"].sum() / preg[\"totalwgt_kg\"].count()\n",
        "print(f\"corrected mean weight in kilos: {mean_kg_weight}\")\n",
        "\n",
        "# now we try for standard deviation\n",
        "\n",
        "# first variance, need to find the squared deviation\n",
        "squared_dev_kg_weight = (preg[\"totalwgt_kg\"] - mean_kg_weight) ** 2\n",
        "# now variance should be mean of that\n",
        "variance = squared_dev_kg_weight.sum() / squared_dev_kg_weight.count()\n",
        "special_variance = preg[\"totalwgt_kg\"].var()\n",
        "\n",
        "print(f\" squared deviations series: {squared_dev_kg_weight} and then the two variances: n {variance} and n-1 {special_variance}\")\n",
        "\n",
        "print(f\" now an interesting test, which of the two does pandas use, n-1 or n? Let's see, with n, std dev would be {np.sqrt(variance)} and with n-1 would be {np.sqrt(special_variance)}\")\n",
        "\n",
        "print(\"there you have it, pandas standard deviation is using the n-1, which is not ddof=0\")\n",
        "\n"
      ]
    },
    {
      "cell_type": "markdown",
      "id": "ee9bc52d",
      "metadata": {
        "id": "ee9bc52d"
      },
      "source": [
        "### Exercise 1.3\n",
        "\n",
        "What are the pregnancy lengths for the respondent with `caseid` 2298?"
      ]
    },
    {
      "cell_type": "code",
      "execution_count": null,
      "id": "69de50aa",
      "metadata": {
        "id": "69de50aa"
      },
      "outputs": [],
      "source": [
        "# Solution goes here\n",
        "print(f\" for this respondent what are pregnancy lengths in months?  {preg[\"mosgest\"].query(\"caseid == 2298\")}\")"
      ]
    },
    {
      "cell_type": "markdown",
      "id": "a205c407",
      "metadata": {
        "id": "a205c407"
      },
      "source": [
        "What was the birth weight of the first baby born to the respondent with `caseid` 5013?\n",
        "Hint: You can use `and` to check more than one condition in a query."
      ]
    },
    {
      "cell_type": "code",
      "execution_count": null,
      "id": "5ae4cc07",
      "metadata": {
        "id": "5ae4cc07"
      },
      "outputs": [],
      "source": [
        "# Solution goes here"
      ]
    },
    {
      "cell_type": "code",
      "execution_count": null,
      "id": "53f511d0",
      "metadata": {
        "id": "53f511d0"
      },
      "outputs": [],
      "source": [
        "# Solution goes here"
      ]
    },
    {
      "cell_type": "markdown",
      "id": "e27da3a4",
      "metadata": {
        "id": "e27da3a4",
        "tags": []
      },
      "source": [
        "[Think Stats: Exploratory Data Analysis in Python, 3rd Edition](https://allendowney.github.io/ThinkStats/index.html)\n",
        "\n",
        "Copyright 2024 [Allen B. Downey](https://allendowney.com)\n",
        "\n",
        "Code license: [MIT License](https://mit-license.org/)\n",
        "\n",
        "Text license: [Creative Commons Attribution-NonCommercial-ShareAlike 4.0 International](https://creativecommons.org/licenses/by-nc-sa/4.0/)"
      ]
    }
  ],
  "metadata": {
    "celltoolbar": "Tags",
    "colab": {
      "provenance": []
    },
    "kernelspec": {
      "display_name": "venv",
      "language": "python",
      "name": "python3"
    },
    "language_info": {
      "codemirror_mode": {
        "name": "ipython",
        "version": 3
      },
      "file_extension": ".py",
      "mimetype": "text/x-python",
      "name": "python",
      "nbconvert_exporter": "python",
      "pygments_lexer": "ipython3",
      "version": "3.12.2"
    }
  },
  "nbformat": 4,
  "nbformat_minor": 5
}
