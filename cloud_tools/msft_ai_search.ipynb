{
 "cells": [
  {
   "cell_type": "markdown",
   "id": "d05f30f5",
   "metadata": {},
   "source": [
    "# setting up keyword search in microsoft ai search\n",
    "\n",
    "what do I need at a minimum? Let's try to figure this out from memory: \n",
    "- an index (duh)\n",
    "- the index will transform the body of documents. how? I'm assuming it will create vectors out of them that follow something like a tf-idf/bm-25 type of 'encoding' such that term frequency within a document and rarity across all document are used as factors to determine whether the document is similar to a query conaining that term\n",
    "- ai search has other things, there will need to be a data source, I'll probably use azure blob storage as the data source\n",
    "- something will be reading from that data source\n",
    "- do I need skills? that would be like custom transformations on the indexing process to enrich it\n",
    "- there is likely to be some configuraiton, such as figuring out dimensionality of the vectors\n",
    "\n",
    "check the existing solution tha tis using semantic search for clues, read the docs and see if you missed anything. "
   ]
  },
  {
   "cell_type": "markdown",
   "id": "6df4477d",
   "metadata": {},
   "source": [
    "### check my work\n",
    "\n",
    "technical answer: need an index yes, in msft that consists of a searchable index and an indexer and a data source connection. someof those things were covered in your write up but maybe not decomposed enough to be accurte to how things work in ai search. \n",
    "\n",
    "there are other enrichmenbts for skillsets. \n",
    "\n",
    "configuring the index to specify the schema for the documents is probably the most config intensive and detail oriented piece of this. \n",
    "\n",
    "    need to have doc name and collection of fields and then one of the fields is the document key to uniquely idenfity a document in the index. \n",
    "    here is somethign I should remember from the certification. fields have names, dtypes, and attributes that control how they are used: \n",
    "        - retrievable - can be displayed as part of the serach result\n",
    "        - filterable - can be filtered on\n",
    "        - sortable - can be used for sorting\n",
    "        - facetable - can be used to subdivide/segment the result set\n",
    "        - searchable - this is the tricky part. searchable means you can search on values of it\n"
   ]
  }
 ],
 "metadata": {
  "language_info": {
   "name": "python"
  }
 },
 "nbformat": 4,
 "nbformat_minor": 5
}
