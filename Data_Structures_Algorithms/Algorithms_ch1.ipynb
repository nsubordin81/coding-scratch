{
 "cells": [
  {
   "cell_type": "markdown",
   "id": "31f495ac",
   "metadata": {},
   "source": [
    "Going through how this works. how much do you remember, having not done this in a while. \n",
    "\n",
    "need a formal problem statement first. formal meaning you are using language that is mathematical enough that there is no ambiguity. define the problem. \n",
    "\n",
    "example insertion sort is the first one. \n",
    "given a set of numbers unordered, <a1, a2, a3, a4>, where the size of the set is not infinite. \n",
    "and some means of comparison where you know if a1 is > than a2 etc.\n",
    "return the set shere every element of the set is smaller than the element that follows it. \n",
    "\n",
    "oh, think a little harder, are you missing anything? \n",
    "- maybe boundary contiditons? like are there duplicates? how are they handled? \n",
    "- \n",
    "\n",
    "is that formal enough? what did I do right? what did I not do right? \n",
    "\n",
    "ok, so the problem is a lot more concise in the book, but it is essentially the same. it makes the assumptions going in that tyou have a limited set of elements, and it calls the values in the solution that are sorted with a superscriopt ' prime, to indicate that they are now the elements who are in order. this is interesting because the fact that the elements will be moved around is represented by having the variables be representative of the element in that position, and then the prime'  indicates that there is a new element in that position but it is still given the numbering that it originally had. \n",
    "\n",
    "permutation and reordering terms were used, but I said that basically. \n",
    "\n",
    "\n"
   ]
  },
  {
   "cell_type": "markdown",
   "id": "d63fff8b",
   "metadata": {},
   "source": [
    "let's try to knock out a version of this algorithm without looking at their solution. I have already gone over this before so Ii should be able to do it no problem. keepng in mind this is not just whatever solution solves the sorting problem, it is the particular solution that is insertion sort. "
   ]
  },
  {
   "cell_type": "code",
   "execution_count": null,
   "id": "ca95b168",
   "metadata": {},
   "outputs": [
    {
     "name": "stdout",
     "output_type": "stream",
     "text": [
      "[0, 2, 3, 5, 8]\n"
     ]
    }
   ],
   "source": [
    "# I wonder if I can do both imperative and recursive versions. let's try\n",
    "def insertion_sort(input_list):\n",
    "    result_list = []\n",
    "    for i in range(len(input_list)):\n",
    "        result_list.append(input_list[i])\n",
    "        for j in range(len(result_list)-1):\n",
    "            idx = j+1\n",
    "            tail=-idx\n",
    "            one_behind=tail-1\n",
    "            if result_list[tail] < result_list[one_behind]:\n",
    "                temp = result_list[one_behind]\n",
    "                result_list[one_behind] = result_list[tail]\n",
    "                result_list[tail] = temp\n",
    "    return result_list\n",
    "\n",
    "unsorted = [0,2,8,5,3]\n",
    "\n",
    "sorted = insertion_sort(unsorted)\n",
    "\n",
    "print(sorted)\n",
    "\n",
    "\n",
    "def recursive_insertion(input_list, position):\n",
    "       pass \n",
    "\n",
    "def recursive_insertion_sort(input_list, sorted_list):\n",
    "    # algorithm, like playing cards. start with full and empty list. if input sequence is empty, return empty sorted_list\n",
    "    # if input sequence is not empty, take first element from that list, compare it to teh rightmost element of sorted list\n",
    "    # if that element exists and it is less than this element, swap them. if it is less than the next element, swap them, do this until it is greater than the element it is compared against\n",
    "    # when you've found the element's place, you can move to the next element. \n",
    "\n",
    "    # this has the feeling of a nested recursion, hard to achieve both base cases without a higher order function going on. \n",
    "    \n",
    "\n",
    "\n",
    "                \n",
    "                \n",
    "\n",
    "                \n",
    "\n",
    "\n",
    "        \n",
    "            \n",
    "        \n",
    "            \n",
    "            \n",
    "\n"
   ]
  },
  {
   "cell_type": "markdown",
   "id": "fc30b5dd",
   "metadata": {},
   "source": [
    "ok, so things I learned that are useful to remember: \n",
    "- python's typical for loops aren't greawt for things like iterating backwards or when you need an index, but then I already knew that. \n",
    "- indexing is a PITA with range out of bounds exceptions, especially working in reverse because that in python is starting with 1 instead of 0 \n",
    "- don't use the ':' in your indexing for a simple python list unless you want to slice or get the full array back. review this, your pandas and numpy time has confused you a bit\n",
    "- defining your values in the iteration in terms of the other values was helpful, fewer places to change\n",
    "- you have list api functions like 'insert' that make this trivial, but remember you are doing this to learn!!!\n",
    "- "
   ]
  },
  {
   "cell_type": "markdown",
   "id": "1b8cde0e",
   "metadata": {},
   "source": [
    "an important thing to remember. hard for me to do this without doing some kind of exercise on it, is that that is typically being sorted by sorting algorithms are the 'keys' to 'satellite data'. I feel like I've never heard these terms outside of theory and academia, but I'm very familiar with the concept.\n",
    "\n",
    "toi solidify. let me spend the next 10 minutes using the insertion sort I just created to sort the keys of a hashmap I made so that I can put some sentences in order. "
   ]
  },
  {
   "cell_type": "code",
   "execution_count": 29,
   "id": "e4d3621d",
   "metadata": {},
   "outputs": [
    {
     "name": "stdout",
     "output_type": "stream",
     "text": [
      "now look, the list is not in order. [2, 1, 4, 7, 3, 5, 6, 8], so I'm expecting insertion sort to put it back in order and then I can retrieve the satellite data\n",
      "I'm henry the eigth I am.\n",
      "henry teh eigth I am I am.\n",
      "I got married to the widow next door.\n",
      "she's been married several, TIMES before.\n",
      "and every one was a Henry.\n",
      "wouldn't have a joe or sam\n",
      "I'm her eigth old man, I'm Hen-er-y.\n",
      "Hen-er-y the eight I am I am.\n"
     ]
    },
    {
     "data": {
      "text/plain": [
       "[None, None, None, None, None, None, None, None]"
      ]
     },
     "execution_count": 29,
     "metadata": {},
     "output_type": "execute_result"
    }
   ],
   "source": [
    "import random\n",
    "\n",
    "my_map = {1: \"I'm henry the eigth I am.\", 2: \"henry teh eigth I am I am.\", 3: \"I got married to the widow next door.\", 4: \"she's been married several, TIMES before.\", 5: \"and every one was a Henry.\", 6: \"wouldn't have a joe or sam\", 7: \"I'm her eigth old man, I'm Hen-er-y.\", 8: \"Hen-er-y the eight I am I am.\"}\n",
    "\n",
    "keys_list = list(my_map.keys())\n",
    "\n",
    "random.shuffle(keys_list)\n",
    "print(f\"now look, the list is not in order. {keys_list}, so I'm expecting insertion sort to put it back in order and then I can retrieve the satellite data\")\n",
    "\n",
    "[print(my_map[key]) for key in insertion_sort(keys_list)]"
   ]
  },
  {
   "cell_type": "code",
   "execution_count": null,
   "id": "84c835ae",
   "metadata": {},
   "outputs": [],
   "source": []
  }
 ],
 "metadata": {
  "kernelspec": {
   "display_name": "venv",
   "language": "python",
   "name": "python3"
  },
  "language_info": {
   "codemirror_mode": {
    "name": "ipython",
    "version": 3
   },
   "file_extension": ".py",
   "mimetype": "text/x-python",
   "name": "python",
   "nbconvert_exporter": "python",
   "pygments_lexer": "ipython3",
   "version": "3.12.2"
  }
 },
 "nbformat": 4,
 "nbformat_minor": 5
}
