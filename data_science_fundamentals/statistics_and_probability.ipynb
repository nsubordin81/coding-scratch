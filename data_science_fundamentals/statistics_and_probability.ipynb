{
 "cells": [
  {
   "cell_type": "markdown",
   "id": "ea4edf70",
   "metadata": {},
   "source": [
    "# What is Probability? \n",
    "\n",
    "probability of an event or P(e) is a fraction or ratio, where the numerator is the number of options that meet a probability condition and teh denominator is the number of possible outcomes. \n",
    "\n",
    "so for example with flipping a fair coin, the probability of heads or P(H) is the outcome of getting heads, which is 1, divided by the number of possible outcomes (which in this experiment is either the coin lands with heads facing up or tails facing up) which is 2. so the probability is 1/2\n",
    "\n",
    "## another way to think about the probability\n",
    "\n",
    "if you were to run the event a very high number of times, the fraction of observed trials which lead to your outcome to the total trials you did. \n",
    "\n",
    "\n"
   ]
  },
  {
   "cell_type": "code",
   "execution_count": 2,
   "id": "2c88621a",
   "metadata": {},
   "outputs": [
    {
     "name": "stdout",
     "output_type": "stream",
     "text": [
      "37.5%\n"
     ]
    }
   ],
   "source": [
    "# probability finding a yellow marble from bag with 3 yellow, 2 red, 2 green, and 1 blue\n",
    "\n",
    "p_yellow = 3/(3+2+2+1)\n",
    "print(f\"{p_yellow * 100:.1f}%\")"
   ]
  },
  {
   "cell_type": "code",
   "execution_count": 3,
   "id": "fd285fc2",
   "metadata": {},
   "outputs": [
    {
     "name": "stdout",
     "output_type": "stream",
     "text": [
      "85.7%\n"
     ]
    }
   ],
   "source": [
    "# bag with 9 red marbles, 2 blue marbles, and 3 green marbles. what is the probability of picking at random a marble that isn't blue? \n",
    "\n",
    "p_non_blue = (9 + 3) / (9 + 3 + 2)\n",
    "print(f\"{p_non_blue * 100:.1f}%\")"
   ]
  },
  {
   "cell_type": "code",
   "execution_count": 4,
   "id": "f9622d27",
   "metadata": {},
   "outputs": [
    {
     "name": "stdout",
     "output_type": "stream",
     "text": [
      "0.6%\n"
     ]
    }
   ],
   "source": [
    "# probabiliyt of picking multiple of 5 from this list: [32, 49, 55, 30, 56, 28, 50, 40, 40, 45, 3, 25]\n",
    "\n",
    "n_list = [32, 49, 55, 30, 56, 28, 50, 40, 40, 45, 3, 25]\n",
    "list_mul_5 = [i for i in n_list if i % 5 == 0]\n",
    "\n",
    "p_mul_5 = len(list_mul_5)/len(n_list)\n",
    "\n",
    "print(f\"{p_mul_5:.1f}%\")\n"
   ]
  },
  {
   "cell_type": "markdown",
   "id": "7f44f059",
   "metadata": {},
   "source": []
  }
 ],
 "metadata": {
  "kernelspec": {
   "display_name": "venv",
   "language": "python",
   "name": "python3"
  },
  "language_info": {
   "codemirror_mode": {
    "name": "ipython",
    "version": 3
   },
   "file_extension": ".py",
   "mimetype": "text/x-python",
   "name": "python",
   "nbconvert_exporter": "python",
   "pygments_lexer": "ipython3",
   "version": "3.12.2"
  }
 },
 "nbformat": 4,
 "nbformat_minor": 5
}
