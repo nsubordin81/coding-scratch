{
 "cells": [
  {
   "cell_type": "markdown",
   "id": "ea4edf70",
   "metadata": {},
   "source": [
    "# What is Probability? \n",
    "\n",
    "probability of an event or P(e) is a fraction or ratio, where the numerator is the number of options that meet a probability condition and teh denominator is the number of possible outcomes. \n",
    "\n",
    "so for example with flipping a fair coin, the probability of heads or P(H) is the outcome of getting heads, which is 1, divided by the number of possible outcomes (which in this experiment is either the coin lands with heads facing up or tails facing up) which is 2. so the probability is 1/2\n",
    "\n",
    "## another way to think about the probability\n",
    "\n",
    "if you were to run the event a very high number of times, the fraction of observed trials which lead to your outcome to the total trials you did. \n",
    "\n",
    "\n"
   ]
  },
  {
   "cell_type": "code",
   "execution_count": 2,
   "id": "2c88621a",
   "metadata": {},
   "outputs": [
    {
     "name": "stdout",
     "output_type": "stream",
     "text": [
      "37.5%\n"
     ]
    }
   ],
   "source": [
    "# probability finding a yellow marble from bag with 3 yellow, 2 red, 2 green, and 1 blue\n",
    "\n",
    "p_yellow = 3/(3+2+2+1)\n",
    "print(f\"{p_yellow * 100:.1f}%\")"
   ]
  },
  {
   "cell_type": "code",
   "execution_count": 3,
   "id": "fd285fc2",
   "metadata": {},
   "outputs": [
    {
     "name": "stdout",
     "output_type": "stream",
     "text": [
      "85.7%\n"
     ]
    }
   ],
   "source": [
    "# bag with 9 red marbles, 2 blue marbles, and 3 green marbles. what is the probability of picking at random a marble that isn't blue? \n",
    "\n",
    "p_non_blue = (9 + 3) / (9 + 3 + 2)\n",
    "print(f\"{p_non_blue * 100:.1f}%\")"
   ]
  },
  {
   "cell_type": "code",
   "execution_count": 4,
   "id": "f9622d27",
   "metadata": {},
   "outputs": [
    {
     "name": "stdout",
     "output_type": "stream",
     "text": [
      "0.6%\n"
     ]
    }
   ],
   "source": [
    "# probabiliyt of picking multiple of 5 from this list: [32, 49, 55, 30, 56, 28, 50, 40, 40, 45, 3, 25]\n",
    "\n",
    "n_list = [32, 49, 55, 30, 56, 28, 50, 40, 40, 45, 3, 25]\n",
    "list_mul_5 = [i for i in n_list if i % 5 == 0]\n",
    "\n",
    "p_mul_5 = len(list_mul_5)/len(n_list)\n",
    "\n",
    "print(f\"{p_mul_5:.1f}%\")\n"
   ]
  },
  {
   "cell_type": "code",
   "execution_count": 9,
   "id": "ebe03e75",
   "metadata": {},
   "outputs": [
    {
     "name": "stdout",
     "output_type": "stream",
     "text": [
      "0.4%\n",
      "0.05%\n"
     ]
    }
   ],
   "source": [
    "# circumference is 36 PI and smaller circle is 16 PI what is the probability that a point selected at random from the larger circle is in the smaller circle\n",
    "# interesting twist with this one is that there are infinite points in both circles, so it is really about the ratio itself\n",
    "\n",
    "# guessing how do do it\n",
    "ratio = 16/36\n",
    "\n",
    "print(f\"{ratio:.1f}%\")\n",
    "\n",
    "# shoot! I feel for the trap, we ned to go from circumference to area before we get to the ratio\n",
    "\n",
    "# circumference = 2PIr \n",
    "# area = PI*r^2\n",
    "\n",
    "# pi doesn't have to be exact because I already know I'm going to eliminate it\n",
    "pi = 3.14\n",
    "\n",
    "larger_circumference = pi * 36\n",
    "radius_large = larger_circumference/pi/2\n",
    "\n",
    "smaller_area = 16 * pi \n",
    "radius_squared_smaller = 16\n",
    "\n",
    "# knowing that both areas will have a PI term, can just take ratio of squared radii\n",
    "ratio = radius_squared_smaller / radius_large **2\n",
    "\n",
    "\n",
    "print(f\"{ratio:.2f}%\")"
   ]
  },
  {
   "cell_type": "markdown",
   "id": "80e7fc54",
   "metadata": {},
   "source": [
    "## experimental vs theoretical probability\n",
    "\n",
    "so far we were doing simple probability, which is the number of events that would lead to desired outcome out of total possible outcomes. \n",
    "\n",
    "so like how many of the possible outcomes meet tyhe constraints. this is somethign I feel like I have a good intuition for. \n",
    "\n",
    "in toy examples where it is like in a theoretical or hypothetical scenario where you can control how fair a coin is and you know that nothing is going to influence it and you get to dictate teh controls, you can achieve these probabilities just by enumerating out the possible outcomes and the ones meeting the constraints. but this isn't always possible to do, in fact in reality it is seldom possible to do. \n",
    "\n",
    "for example, who is going to win a sporting event was given. you can't control for all of the things that might influence the outcome. \n",
    "\n",
    "for cases like this, you rely on experimental probability, based on past experience data you've collected, you can come up with an estimate for what is likely to happen, which is also a fairly weak one. in the example given you had 16 games played in a sport, like football, and you could plot a distribution or histogram of the number of games in buckets based on how many points were scored per game, and from that, you could take the portion of the histogram that represents the number of games scoring over 30 points and then find the ratio of that to the total number of games and it would tell you roughly that you could anticipate that percentage chance that your score would get above 30 points.\n",
    "\n",
    "so that is the idea, and probably most of the probility you will be doing, using past observations to create estimates of likelihood of future outcomes. "
   ]
  },
  {
   "cell_type": "markdown",
   "id": "7f44f059",
   "metadata": {},
   "source": []
  },
  {
   "cell_type": "markdown",
   "id": "987061c5",
   "metadata": {},
   "source": [
    "## probability extremes\n",
    "\n",
    "lowest probability possible is 0, it is impossible, given the current situation it just can't happen. \n",
    "\n",
    "highest probability possible is 1, it is guaranteed to happen, all outcomes lead to the hoped outcome"
   ]
  }
 ],
 "metadata": {
  "kernelspec": {
   "display_name": "venv",
   "language": "python",
   "name": "python3"
  },
  "language_info": {
   "codemirror_mode": {
    "name": "ipython",
    "version": 3
   },
   "file_extension": ".py",
   "mimetype": "text/x-python",
   "name": "python",
   "nbconvert_exporter": "python",
   "pygments_lexer": "ipython3",
   "version": "3.12.2"
  }
 },
 "nbformat": 4,
 "nbformat_minor": 5
}
