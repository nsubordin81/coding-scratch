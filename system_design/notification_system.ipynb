{
 "cells": [
  {
   "cell_type": "markdown",
   "id": "64a5e2ae",
   "metadata": {},
   "source": [
    "System Design Interview: Notification/Alerting Service\n",
    "Hello! I'm Emily, a senior systems engineer conducting your system design interview today. I'll be guiding you through designing a notification/alerting service based on the case study you've shared.\n",
    "Problem Statement\n",
    "We need to design a notification/alerting service that can send notifications through various channels (browser, email, SMS, phone calls, push notifications, in-app messages) to billions of recipients daily. This service should be highly available, scalable, and support various features like templates, scheduled notifications, and recipient group management.\n",
    "Let's start clarifying the requirements and constraints before diving into the architecture.\n",
    "Requirements Clarification\n",
    "Could you help me understand some of the key priorities for this notification service?\n",
    "For example:\n",
    "\n",
    "Which notification channels are most critical to support in the initial implementation?\n",
    "Are there any specific performance requirements beyond the \"delivered within seconds\" mentioned in the case?\n",
    "Any specific security or compliance requirements we should prioritize?"
   ]
  },
  {
   "cell_type": "markdown",
   "id": "51cda67b",
   "metadata": {},
   "source": [
    "thank you for the questions, I also have questions around the requirements. the prioritization of the notficiation channel to me depends on how the tool will be used by the organization the most, what type of users we have and whether those users are actual users or systems that want to push the notifications, whether the notifications are being triggered automatically by events or if they are being manually sent by users. it depends whether the nature of the notifications are urgent or not as urgent. \n",
    "\n",
    "I'm going to make the assumption that the notifications are going to be urgent, as generally speaking we don't raise notifications that get pushed to others attention and potentially disrupt them unless they require shorter term action. by that logic, I would prioritize the browser, SMS, push notifications and in-app messages. these are the types of notifications that will be noticed faster and acted on faster. \n",
    "\n",
    "what other performance requirements should we focus on? should we be planning for handling a particular volume of messages in a particular time window? doing some napkin math, if the max number of messages sent in a day could be in the billions, how many billions? let's assume 2 billion if we don't have a specific target, that is 2,000,000,000 in a day as possibly the average load, but would that be evenly distributed throughout the day or could we expect stress on the system where you have 2,000,000,000 messages in just one 10 second interval and then nothing the rest of the day, for example? if we assume average then we can get to roughly 20,000 per second. but it really matters in this case I'd imagine if that number goes up or down by orders of magnitude in the course of a day. \n",
    "\n",
    "for security, I would imagine we would want authentication and authorization on this application. we can set up an identity provider and use oauth for permissions at a user level and openid for authentication. we should discuss what roles users should have in the system. should all users be allowed to configure the notifications? additionally, for compliance, are there any standards bodies governing the types or size of notification messages and what types of data should be allowed to be displayed in a notification? PII and SPII for example should likely be excluded. \n",
    "\n",
    "I'm also wondering whether the notification service can have several concurrent service clients, what kind of conditions trigger a notification, are the notifications triggered through a synchronous request? can one system send multiple notification reqeusts at once? what should the format of the request be? are there ways to cancel a request once it has been sent? can there be requests that are sent at intervals which can be disabled or ignored? is this for services that are doing system monitoring or is this more for communications?\n",
    "\n"
   ]
  },
  {
   "cell_type": "markdown",
   "id": "8615bd03",
   "metadata": {},
   "source": [
    "Thank you for those thoughtful questions and assumptions. You've raised excellent points that will help us define the scope and requirements more clearly. Let's build on your insights to establish a solid foundation for our design.\n",
    "Requirements Clarification (continued)\n",
    "Based on your assumptions about urgency, I agree with prioritizing browser notifications, SMS, push notifications, and in-app messages for the initial implementation. These channels provide immediate attention-grabbing capabilities that are essential for time-sensitive notifications.\n",
    "For volume handling, your napkin math of around 20,000 notifications per second (for 2 billion daily) as an average is reasonable. However, we need to design for peak loads rather than averages. Let's assume:\n",
    "\n",
    "Normal operation: 20,000 notifications/second\n",
    "Peak loads: 200,000 notifications/second (10x normal)\n",
    "Burst capacity: Up to 500,000 notifications/second for short periods\n",
    "\n",
    "For security and compliance:\n",
    "\n",
    "We should implement OAuth 2.0 for authorization and OpenID Connect for authentication\n",
    "Role-based access control (RBAC) to define who can configure, view, and send notifications\n",
    "PII/SPII policies to limit sensitive data in notifications\n",
    "Opt-in/opt-out mechanisms to comply with anti-spam regulations\n",
    "\n",
    "System Constraints\n",
    "Let's define some key constraints:\n",
    "\n",
    "Notification size limit: 1MB (as mentioned in the case)\n",
    "Delivery timeline: Within seconds for high-priority notifications\n",
    "High availability requirement: Five 9s (99.999% uptime)\n",
    "Fault tolerance: Guaranteed delivery with retry mechanisms\n",
    "Data retention: Let's assume notifications are stored for 30 days\n",
    "\n"
   ]
  },
  {
   "cell_type": "markdown",
   "id": "6c02d523",
   "metadata": {},
   "source": [
    "## High Level Architecture, my Answer\n",
    "\n",
    "the notification service will ened a way to handle events coming in from other sources, this coudl be: \n",
    "\n",
    "a message queue\n",
    "kafka\n",
    "some bespoke solution where we essentially recreate one of teh two above in a pub sub fashion. \n",
    "\n",
    "I know I need pub sub. kafka offers durability so I'm thinking we should take that because the system needs to be highly available. \n",
    "\n",
    "the other non functional requirements to consider are scalability, and kafka will achieve that the best I believe with the ability to partition topics and have consumer groups that scale up with the volume of messages. it ensures that if there is ever a failure, kafka will start from the last unconsumed message offset and there willb e no data loss\n",
    "\n",
    "for feature configuraiton we will likely need a UI which I think could be a static web app with administrator dashboard. \n",
    "\n",
    "so client systems will publish events to teh kafka queue whenever there is somethign amiss and then teh notification service, which could potentially be serverless to save on cost, or maybe just be a container running in a virtual machine somewhere, will ingest these messages and then publish them out to the user through the various channels. so there is a backend and front end to that as well. \n",
    "\n",
    "it will likely be necessary to scale the notification servcie backend according to the number of messages we have coming in, and it will be a good idea to load balance these in some fashion, maybe have only some topics be consumed by some instances of the service, or maybe distribute them across all services. "
   ]
  },
  {
   "cell_type": "code",
   "execution_count": null,
   "id": "7cc966bd",
   "metadata": {
    "vscode": {
     "languageId": "plaintext"
    }
   },
   "outputs": [],
   "source": []
  },
  {
   "cell_type": "markdown",
   "id": "15e30f08",
   "metadata": {},
   "source": [
    "\n",
    "\n",
    "## High-Level Architecture, Claude's answer\n",
    "Based on our discussion, let's sketch out a high-level architecture:\n",
    "\n",
    "Client-Facing Layer:\n",
    "\n",
    "API Gateway for external requests\n",
    "Web UI for manual notification configuration and monitoring\n",
    "Authentication and authorization\n",
    "\n",
    "\n",
    "Core Services:\n",
    "\n",
    "Notification Management Service\n",
    "Template Service\n",
    "Address Group Service\n",
    "Scheduler Service\n",
    "\n",
    "\n",
    "Distribution Layer:\n",
    "\n",
    "Kafka messaging infrastructure\n",
    "Consumer clusters for each notification channel\n",
    "\n",
    "\n",
    "Channel-Specific Services:\n",
    "\n",
    "Browser Notification Service\n",
    "SMS Service\n",
    "Push Notification Service\n",
    "In-App Notification Service\n",
    "Email Service\n",
    "Phone Call Service\n",
    "\n",
    "\n",
    "Supporting Infrastructure:\n",
    "\n",
    "Object Store for large media files\n",
    "Metadata Service\n",
    "Monitoring and Alerting Service\n",
    "Dead Letter Queues for retry logic\n",
    "\n",
    "\n",
    "\n",
    "Let me first ask: Does this high-level architecture align with your thinking? Would you like to discuss any specific component in more detail first, or should we start diving into the overall system flow?"
   ]
  },
  {
   "cell_type": "markdown",
   "id": "32f00cd2",
   "metadata": {},
   "source": []
  }
 ],
 "metadata": {
  "language_info": {
   "name": "python"
  }
 },
 "nbformat": 4,
 "nbformat_minor": 5
}
